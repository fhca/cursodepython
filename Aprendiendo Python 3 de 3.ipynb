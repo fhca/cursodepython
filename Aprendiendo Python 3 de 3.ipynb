{
 "cells": [
  {
   "cell_type": "markdown",
   "metadata": {},
   "source": [
    "# Aprendiendo Python\n",
    "## Parte 3: Avanzado"
   ]
  },
  {
   "cell_type": "markdown",
   "metadata": {},
   "source": [
    "### Clases"
   ]
  },
  {
   "cell_type": "markdown",
   "metadata": {},
   "source": [
    "Se usan para definir estructuras avanzadas, donde se desea encapsular el comportamiento del objeto sin interferir con otros objetos. En Python se recomienda no abusar de las clases."
   ]
  },
  {
   "cell_type": "code",
   "execution_count": null,
   "metadata": {
    "collapsed": true
   },
   "outputs": [],
   "source": [
    "class Vehiculo:\n",
    "    def __init__():\n",
    "        self.velocidad = 0\n",
    "        self.tr = 0\n",
    "        self.color = \"negro\"\n",
    "        self.distancia_recorrida = 0\n",
    "    \n",
    "    def enciende():\n",
    "        pass\n",
    "    \n",
    "    def apaga():\n",
    "        pass\n",
    "    \n",
    "    def avanza():\n",
    "        pass\n",
    "    \n",
    "    def gira(angulo):\n",
    "        pass\n",
    "\n",
    "class Aereo(Vehiculo):\n",
    "    def __init__():\n",
    "        self.alas = construyeAlas()\n",
    "    \n",
    "    def elevarse(altitud):\n",
    "        pass\n",
    "    \n",
    "    def aterriza():\n",
    "        pass\n",
    "\n",
    "class Terrestre(Vehiculo):\n",
    "    def __init__():\n",
    "        self.num_de_ruedas = 4\n",
    "    \n",
    "class Dron(Aereo):\n",
    "    pass"
   ]
  },
  {
   "cell_type": "code",
   "execution_count": 1,
   "metadata": {
    "collapsed": false
   },
   "outputs": [
    {
     "data": {
      "text/plain": [
       "True"
      ]
     },
     "execution_count": 1,
     "metadata": {},
     "output_type": "execute_result"
    }
   ],
   "source": [
    "class Palíndromo:\n",
    "    \"Verifica palíndromos (palabras o frases que se leen igual al derecho y al revés)\"\n",
    "    def __init__(self, cadena):\n",
    "        self.cadena = cadena  # self.cadena es la estructura actual a verificar\n",
    "        \n",
    "    def verifica(self):  # Todos los métodos (funciones de una clase), tienen como primer parámetro a self\n",
    "        \"Devuelve True ssi self es palíndromo.\"\n",
    "        return self.cadena == self.cadena[::-1]\n",
    "\n",
    "a = Palíndromo(\"anilina\")\n",
    "a.verifica()"
   ]
  },
  {
   "cell_type": "code",
   "execution_count": 2,
   "metadata": {
    "collapsed": false
   },
   "outputs": [
    {
     "data": {
      "text/plain": [
       "True"
      ]
     },
     "execution_count": 2,
     "metadata": {},
     "output_type": "execute_result"
    }
   ],
   "source": [
    "class PalíndromoAvanzado(Palíndromo):\n",
    "    \"Verifica palíndromos, ignorando diferencias de mayúsculas, acentos o espacios.\"\n",
    "    def similar(self, cad, res):\n",
    "        \"Añade a un diccionario cada elemento de cad como llave y res como valor.\"\n",
    "        d = dict()\n",
    "        for a in cad:\n",
    "            d[a]=res\n",
    "        return d\n",
    "    \n",
    "    def verifica(self):\n",
    "        \"Modificación del verifica de Palíndromo.\"\n",
    "        cad = self.cadena.lower()\n",
    "        tradu = self.similar('aáAÁ', 'a')\n",
    "        tradu.update(self.similar('eéEÉ', 'e'))\n",
    "        tradu.update(self.similar('iíIÍ', 'i'))\n",
    "        tradu.update(self.similar('oóOÓ', 'o'))\n",
    "        tradu.update(self.similar('uúUÚ', 'u'))\n",
    "        tradu.update(self.similar(' ,.[]()/+-*?¿¡!\"$%&', ''))  # lo demás lo borra\n",
    "        cad = \"\".join(list(map(lambda x:tradu.get(x, x), cad)))\n",
    "        # print(cad)\n",
    "        return cad == cad[::-1]\n",
    "\n",
    "b = PalíndromoAvanzado(\"La ruta nos aportó otro paso natural\")\n",
    "b.verifica()"
   ]
  },
  {
   "cell_type": "code",
   "execution_count": 3,
   "metadata": {
    "collapsed": false
   },
   "outputs": [
    {
     "data": {
      "text/plain": [
       "[True, False, True, True, True]"
      ]
     },
     "execution_count": 3,
     "metadata": {},
     "output_type": "execute_result"
    }
   ],
   "source": [
    "class PalíndromoAvanzadoLista(PalíndromoAvanzado):\n",
    "    \"\"\"Si recibe una cadena, verifica si es palíndromo. devuelve True/False\n",
    "        Si recibe una lista, verifica si cada elemento (cadena) es palíndromo. devuelve lista de True/False\"\"\"\n",
    "    def sub_verifica(self, cad):\n",
    "        p = PalíndromoAvanzado(cad)\n",
    "        return p.verifica()\n",
    "    \n",
    "    def verifica(self):\n",
    "        if isinstance(self.cadena, list):\n",
    "            return map(self.sub_verifica, self.cadena)\n",
    "        else:\n",
    "            return super().verifica()  # aplica verifica() de clase madre\n",
    "\n",
    "c = PalíndromoAvanzadoLista([\"¿Acaso hubo búhos acá?\", \"Felipe\", \"Anita lava la tina\",\n",
    "                             \"Amo la pacífica paloma\", \"Isaac no ronca así\"])\n",
    "list(c.verifica())"
   ]
  },
  {
   "cell_type": "markdown",
   "metadata": {},
   "source": [
    "Ejemplo. Suma en coordenadas polares"
   ]
  },
  {
   "cell_type": "code",
   "execution_count": 4,
   "metadata": {
    "collapsed": false
   },
   "outputs": [
    {
     "name": "stdout",
     "output_type": "stream",
     "text": [
      "p= <5.00, 126º 52' 11.6315''> (-2.999999999999999, 4.000000000000001)\n",
      "q= <6.00, 153º 7' 48.3685''> (-5.352210654388733, 2.7117966573929797)\n",
      "p+q= <10.71, 141º 12' 53.3059''> (-8.352210654388733, 6.711796657392981)\n"
     ]
    }
   ],
   "source": [
    "from math import sqrt, atan2, pi, sin, cos\n",
    "\n",
    "class Polar:\n",
    "    \"Operaciones con coordenadas polares.\"\n",
    "    \n",
    "    def __init__(self, num=\"nada\", angulo=\"nada\"):\n",
    "        if num == \"nada\":\n",
    "            self.d = self.a = 0  \n",
    "        elif angulo == \"nada\":\n",
    "            'num es cadena de la forma \"<d, a>\"'\n",
    "            num = num[1:-1]\n",
    "            d, a = num.split(\",\")\n",
    "            self.d = float(d)\n",
    "            grados, resto = a.split(\"º\")\n",
    "            grados = int(grados)\n",
    "            signo = -1 if grados < 0 else 1  # el signo sólo va en los grados\n",
    "            minutos, segundos = resto.split(\"'\")[:2]\n",
    "            minutos = int(minutos)\n",
    "            segundos = float(segundos)\n",
    "            self.a = (grados + signo*minutos/60 + signo*segundos/3600)*pi/180\n",
    "        else:\n",
    "            \"num es la distancia, angulo está en grados\"\n",
    "            self.d = num\n",
    "            self.a = float(angulo)*pi/180\n",
    "\n",
    "    def _gms(self, angulo):\n",
    "        \"Cadena con grados, minutos y segundos a partir de angulo decimal en radianes.\"\n",
    "        angulo= angulo*180/pi\n",
    "        grados = int(angulo)\n",
    "        angulo = abs(60 * (angulo - grados))  # abs(x) es el valor absoluto (valor positivo) de x\n",
    "        minutos = int(angulo)\n",
    "        segundos = 60 * (angulo - minutos)\n",
    "        return \"{}º {}' {:.4f}''\".format(grados, minutos, segundos)\n",
    "    \n",
    "    def dameD(self):\n",
    "        \"getter\"\n",
    "        return self.d\n",
    "    \n",
    "    def dameA(self):\n",
    "        \"getter\"\n",
    "        return self.a\n",
    "    \n",
    "    def cambiaD(self, d):  # setter\n",
    "        \"setter\"\n",
    "        self.d = d\n",
    "    \n",
    "    def cambiaA(self, a):  # setter\n",
    "        \"setter\"\n",
    "        self.a = a\n",
    "    \n",
    "    def __str__(self):\n",
    "        \"Lo que debe mostrar al pedir que imprima un Polar\"\n",
    "        return \"<{:.2f}, {}>\".format(self.d, self._gms(self.a))\n",
    "    \n",
    "    def aRectangulares(self):\n",
    "        \"Muestra el Polar en coordenadas rectangulares.\"\n",
    "        return self.d * cos(self.a), self.d * sin(self.a)\n",
    "    \n",
    "    def deRectangulares(self, x, y):\n",
    "        \"Extrae los valores de las coordenadas rectangulares dadas.\"\n",
    "        self.d, self.a = sqrt(x**2 + y**2), atan2(y, x)  # arco tangente con grados estandarizados\n",
    "\n",
    "    def __add__(self, otro):  # ver https://docs.python.org/3/reference/datamodel.html\n",
    "        \"Métodos especiales. Lo que se debe entender cuando se pide se sumen dos polares.\"\n",
    "        x1, y1 = self.aRectangulares()\n",
    "        x2, y2 = otro.aRectangulares()\n",
    "        res = Polar()\n",
    "        res.deRectangulares(x1+x2, y1+y2)\n",
    "        return res\n",
    "    \n",
    "    def aRadianes(self):\n",
    "        return self.a\n",
    "        \n",
    "p = Polar()\n",
    "p.deRectangulares(-3,4)\n",
    "print(\"p=\", p, p.aRectangulares())\n",
    "\n",
    "q = Polar(\"<6.00, 153º 7' 48.3685''>\")\n",
    "print(\"q=\", q, q.aRectangulares())\n",
    "\n",
    "print(\"p+q=\", p+q, (p + q).aRectangulares())"
   ]
  },
  {
   "cell_type": "markdown",
   "metadata": {},
   "source": [
    "Ejercicios.\n",
    "\n",
    "1. Añadir las operaciones **resta, división, multiplicación** y **elevar a potencia** para números polares.\n",
    "1. Crear la clase **Rectangular** (los nombres de clase tienen la inicial mayúscula) con todas las operaciones de **Polar** y modificar los métodos `Polar.aRectangulares` y `Polar.deRectangulares` para devolver y aceptar números de esta clase."
   ]
  },
  {
   "cell_type": "markdown",
   "metadata": {},
   "source": [
    "### Creación de módulos\n",
    "Todo archivo de texto conteniendo código de Python es suceptible de volverse módulo. A los módulos nos referimos con `import` para obtener clases o funciones aisladas que proveen características adicionales. Los módulos de Python también pueden estar escritos en otro lenguaje, aunque hay reglas espacíficas para interactuar con Python.\n",
    "\n",
    "Es posible crear módulos desde un IDE o un editor de texto ASCII (block de notas), desde el IDLE o desde Jupyter. Desde Jupyter basta con poner %save archivo rango1 rango2 ... donde los rangos son pares de números de línea separados por \"-\" o un sólo número de línea. Ejemplo (-f es para que no nos pregunte si queremos sobreescribir):"
   ]
  },
  {
   "cell_type": "code",
   "execution_count": 5,
   "metadata": {
    "collapsed": false
   },
   "outputs": [
    {
     "name": "stdout",
     "output_type": "stream",
     "text": [
      "The following commands were written to file `polar.py`:\n",
      "from math import sqrt, atan2, pi, sin, cos\n",
      "\n",
      "class Polar:\n",
      "    \"Operaciones con coordenadas polares.\"\n",
      "    \n",
      "    def __init__(self, num=\"nada\", angulo=\"nada\"):\n",
      "        if num == \"nada\":\n",
      "            self.d = self.a = 0  \n",
      "        elif angulo == \"nada\":\n",
      "            'num es cadena de la forma \"<d, a>\"'\n",
      "            num = num[1:-1]\n",
      "            d, a = num.split(\",\")\n",
      "            self.d = float(d)\n",
      "            grados, resto = a.split(\"º\")\n",
      "            grados = int(grados)\n",
      "            signo = -1 if grados < 0 else 1  # el signo sólo va en los grados\n",
      "            minutos, segundos = resto.split(\"'\")[:2]\n",
      "            minutos = int(minutos)\n",
      "            segundos = float(segundos)\n",
      "            self.a = (grados + signo*minutos/60 + signo*segundos/3600)*pi/180\n",
      "        else:\n",
      "            \"num es la distancia, angulo está en grados\"\n",
      "            self.d = num\n",
      "            self.a = float(angulo)*pi/180\n",
      "\n",
      "    def _gms(self, angulo):\n",
      "        \"Cadena con grados, minutos y segundos a partir de angulo decimal en radianes.\"\n",
      "        angulo= angulo*180/pi\n",
      "        grados = int(angulo)\n",
      "        angulo = abs(60 * (angulo - grados))  # abs(x) es el valor absoluto (valor positivo) de x\n",
      "        minutos = int(angulo)\n",
      "        segundos = 60 * (angulo - minutos)\n",
      "        return \"{}º {}' {:.4f}''\".format(grados, minutos, segundos)\n",
      "    \n",
      "    def dameD(self):\n",
      "        \"getter\"\n",
      "        return self.d\n",
      "    \n",
      "    def dameA(self):\n",
      "        \"getter\"\n",
      "        return self.a\n",
      "    \n",
      "    def cambiaD(self, d):  # setter\n",
      "        \"setter\"\n",
      "        self.d = d\n",
      "    \n",
      "    def cambiaA(self, a):  # setter\n",
      "        \"setter\"\n",
      "        self.a = a\n",
      "    \n",
      "    def __str__(self):\n",
      "        \"Lo que debe mostrar al pedir que imprima un Polar\"\n",
      "        return \"<{:.2f}, {}>\".format(self.d, self._gms(self.a))\n",
      "    \n",
      "    def aRectangulares(self):\n",
      "        \"Muestra el Polar en coordenadas rectangulares.\"\n",
      "        return self.d * cos(self.a), self.d * sin(self.a)\n",
      "    \n",
      "    def deRectangulares(self, x, y):\n",
      "        \"Extrae los valores de las coordenadas rectangulares dadas.\"\n",
      "        self.d, self.a = sqrt(x**2 + y**2), atan2(y, x)  # arco tangente con grados estandarizados\n",
      "\n",
      "    def __add__(self, otro):  # ver https://docs.python.org/3/reference/datamodel.html\n",
      "        \"Métodos especiales. Lo que se debe entender cuando se pide se sumen dos polares.\"\n",
      "        x1, y1 = self.aRectangulares()\n",
      "        x2, y2 = otro.aRectangulares()\n",
      "        res = Polar()\n",
      "        res.deRectangulares(x1+x2, y1+y2)\n",
      "        return res\n",
      "    \n",
      "    def aRadianes(self):\n",
      "        return self.a\n",
      "        \n",
      "p = Polar()\n",
      "p.deRectangulares(-3,4)\n",
      "print(\"p=\", p, p.aRectangulares())\n",
      "\n",
      "q = Polar(\"<6.00, 153º 7' 48.3685''>\")\n",
      "print(\"q=\", q, q.aRectangulares())\n",
      "\n",
      "print(\"p+q=\", p+q, (p + q).aRectangulares())\n"
     ]
    }
   ],
   "source": [
    "%save -f polar 4"
   ]
  },
  {
   "cell_type": "markdown",
   "metadata": {},
   "source": [
    "De esta forma, podemos importar el módulo polar como sigue:"
   ]
  },
  {
   "cell_type": "code",
   "execution_count": 6,
   "metadata": {
    "collapsed": false
   },
   "outputs": [
    {
     "name": "stdout",
     "output_type": "stream",
     "text": [
      "p= <5.00, 126º 52' 11.6315''> (-2.999999999999999, 4.000000000000001)\n",
      "q= <6.00, 153º 7' 48.3685''> (-5.352210654388733, 2.7117966573929797)\n",
      "p+q= <10.71, 141º 12' 53.3059''> (-8.352210654388733, 6.711796657392981)\n"
     ]
    }
   ],
   "source": [
    "import polar"
   ]
  },
  {
   "cell_type": "code",
   "execution_count": 7,
   "metadata": {
    "collapsed": true
   },
   "outputs": [],
   "source": [
    "## otra forma\n",
    "# from polar import Polar\n",
    "## otra forma\n",
    "# from polar import *"
   ]
  },
  {
   "cell_type": "markdown",
   "metadata": {},
   "source": [
    "Nota que lo que le hayamos pedido que imprima se mostrará tras el `import`, salvo que le pidamos que importe algo en específico del módulo. Otra forma de evitar que imprima cosas, que no necesitemos imprimir al cargar el módulo pero si imprimamos al correr el archivo como un programa suelto, es poniendo todo lo que si necesitemos ejecutar en líneas como estas (nota: estas líneas no deben estar dentro de ningún método o clase y deben empezar en 1a columna):\n",
    "\n",
    "```\n",
    "if __name__ == \"__main__\":\n",
    "    \"... poner aquí todos los prints que necesitemos ...\"\n",
    "```\n",
    "\n",
    "y la forma de utilizar el módulo es como ya se ha visto. En este caso..."
   ]
  },
  {
   "cell_type": "code",
   "execution_count": 8,
   "metadata": {
    "collapsed": false
   },
   "outputs": [
    {
     "name": "stdout",
     "output_type": "stream",
     "text": [
      "<10.00, 45º 0' 0.0000''>\n"
     ]
    }
   ],
   "source": [
    "p = polar.Polar(10, 45)\n",
    "print(p)"
   ]
  },
  {
   "cell_type": "markdown",
   "metadata": {},
   "source": [
    "El código que no esté en un `if` como el anterior o dentro de métodos, nos puede servir para crear objetos con valores inicializados luego del import.\n",
    "\n",
    "Normalmente no lo necesitaremos pero podemos utilizar `importlib.reload()` del módulo `importlib` para cargar de nuevo un módulo.\n",
    "\n",
    "**Orden de localización de módulos**\n",
    "\n",
    "* primero se cargan los módulos interconstruidos (math, sys, etc.)\n",
    "* luego se cargan módulos en las trayectorias indicadas por la variable sys.path\n",
    "* la variable sys.path a su vez contiene el directorio de programa o libreta actual\n",
    "* también contiene lo que esté en la *variable de ambiente* PYTHONPATH, con sintáxis similar a la de PATH\n",
    "* por último, también se cargan módulos de donde se haya indicado al momento de la compilación.\n",
    "\n",
    "También podemos poner módulos dentro de subdirectorios formando paquetes. En ese caso, el nombre del módulo correspondiente al subdirectorio es `__init__.py`\n",
    "\n",
    "En la variable `__all__` de ese archivo podemos decirle la lista de submódulos a importar al hacer `from módulo import *`, ya que por default no carga ninguno. Se recomienda usar `from módulo import submódulo_específico`."
   ]
  },
  {
   "cell_type": "code",
   "execution_count": 12,
   "metadata": {
    "collapsed": true
   },
   "outputs": [],
   "source": [
    "# %load \"módulo/mod1.py\"\n",
    "def foo():\n",
    "  return 5\n",
    "\n",
    "def bar():\n",
    "  return 6\n"
   ]
  },
  {
   "cell_type": "markdown",
   "metadata": {},
   "source": [
    "En muchas ocasiones necesitamos almacenar datos resultado de nuestros cálculos o programas en archivos, leerlos para analizarlos, etc. Python tiene varias instrucciones para esto."
   ]
  },
  {
   "cell_type": "code",
   "execution_count": 22,
   "metadata": {
    "collapsed": false
   },
   "outputs": [],
   "source": [
    "# Leyendo archivos de texto\n",
    "def voltea(archivo_entrada, archivo_salida='salida.txt'):\n",
    "    entrada = open(archivo_entrada, \"r\", encoding=\"UTF-8\")\n",
    "    with open(archivo_salida, \"w\", encoding=\"UTF-8\") as salida:\n",
    "        for linea in entrada:\n",
    "            print(linea.strip()[::-1], file=salida)\n",
    "    entrada.close()\n",
    "    \n",
    "voltea(\"zilac.txt\", \"caliz.txt\")"
   ]
  },
  {
   "cell_type": "markdown",
   "metadata": {},
   "source": [
    "Sólo por ejemplificar se ponen las dos formas en que se usa `open` para abrir archivos. Todo archivo que se vaya a leer o escribir debe ser abierto en el modo correcto: 'r', para leer, 'w' para escribir. De ser necesario hay que especificar la codificación en que se encuentra el archivo. El estándar internacional es UTF-8 pero hay otros. \n",
    "\n",
    "Entonces en la primera forma, el resultado de `open`, llamado el descriptor del archivo, se asigna a `entrada` y al dejar de utilizar el archivo leído, se debe cerrar, en este caso con `entrada.close()`. En la segunda forma, con el `with ... as ...` se puede evitar usar el `close`, definiendo el descriptor de archivo después del `as`. Aunque no es recomendable abrir un archivo en una función y cerrarlo en otra, esto es sólo posible con la primera forma del `open`.\n",
    "\n",
    "Cabe señalar que el `for` para archivos de texto lee datos línea por línea (las líneas acaban al encontrar un `ENTER`. También se puede leer cada linea con `entrada.readline()`\n",
    "\n",
    "El método `strip()` para cadenas le quita por default los espacios o enters del inicio o final de una línea. Puede quitar otros caracteres de esas posiciones que se le pasen como lista."
   ]
  },
  {
   "cell_type": "code",
   "execution_count": 36,
   "metadata": {
    "collapsed": true
   },
   "outputs": [],
   "source": [
    "%rm caliz.txt"
   ]
  },
  {
   "cell_type": "code",
   "execution_count": 35,
   "metadata": {
    "collapsed": false
   },
   "outputs": [],
   "source": [
    "def fibonacci(n):\n",
    "    a, b = 1, 1\n",
    "    yield a\n",
    "    yield b\n",
    "    for i in range(n-2):\n",
    "        a, b = b, a + b\n",
    "        yield b\n",
    "\n",
    "list(fibonacci(10))\n",
    "with open(\"datos.txt\", \"w\") as arch:\n",
    "    for i in fibonacci(200):\n",
    "        arch.write(str(i)+\"\\n\")"
   ]
  },
  {
   "cell_type": "markdown",
   "metadata": {},
   "source": [
    "Si el archivo a guardar es binario, el write también espera binario."
   ]
  },
  {
   "cell_type": "code",
   "execution_count": null,
   "metadata": {
    "collapsed": true
   },
   "outputs": [],
   "source": [
    "%rm datos.txt"
   ]
  },
  {
   "cell_type": "code",
   "execution_count": 41,
   "metadata": {
    "collapsed": false
   },
   "outputs": [
    {
     "name": "stdout",
     "output_type": "stream",
     "text": [
      "b'5'\n",
      "b'd'\n"
     ]
    }
   ],
   "source": [
    "with open(\"datos.bin\", \"w+b\") as f:\n",
    "    f.write(b'0123456789abcdef')\n",
    "    f.seek(5)\n",
    "    print(f.read(1))\n",
    "    f.seek(-3, 2)\n",
    "    print(f.read(1))"
   ]
  },
  {
   "cell_type": "markdown",
   "metadata": {},
   "source": [
    "Ejemplo. Programa Animal"
   ]
  },
  {
   "cell_type": "code",
   "execution_count": 48,
   "metadata": {
    "collapsed": false
   },
   "outputs": [
    {
     "name": "stdout",
     "output_type": "stream",
     "text": [
      "Algo salió mal!\n",
      "Piensa en un animal...\n",
      "El animal es un oso?: n\n",
      "Lo siento, no he vivido lo suficiente.\n",
      "Cuál animal era?: serpiente\n",
      "Qué pregunta harías cuya respuesta sea afirmativa\n",
      "para una serpiente y negativa para un oso?\n",
      "El animal ... pica\n",
      "Gracias, aprendí la lección.\n",
      "Juegas de nuevo?:s\n",
      "El animal pica?: s\n",
      "El animal es una serpiente?: n\n",
      "Lo siento, no he vivido lo suficiente.\n",
      "Cuál animal era?: araña\n",
      "Qué pregunta harías cuya respuesta sea afirmativa\n",
      "para una araña y negativa para una serpiente?\n",
      "El animal ... tiene muchas patas\n",
      "Gracias, aprendí la lección.\n",
      "Juegas de nuevo?:s\n",
      "El animal pica?: n\n",
      "El animal es un oso?: s\n",
      "Ah!, lo sabía!\n",
      "Juegas de nuevo?:n\n"
     ]
    }
   ],
   "source": [
    "import sys\n",
    "\n",
    "def leeArchivo(arch):\n",
    "    raiz = []\n",
    "    try:\n",
    "        f = open(arch, encoding=\"UTF-8\")\n",
    "        raiz = eval(f.readline())\n",
    "        f.close()\n",
    "    except:\n",
    "        print(\"Algo salió mal!\")\n",
    "    return raiz\n",
    "\n",
    "respuestaNO = [\"n\", \"N\", \"no\", \"No\", \"NO\"]\n",
    "\n",
    "def articula(animal):\n",
    "    \"Antepone 'un' o 'una' según corresponda.\"\n",
    "    artículo = \"una\" if animal[-1] == \"a\" else \"un\"\n",
    "    if animal in [\"serpiente\", \"liebre\", \"perdiz\"]:\n",
    "        artículo = \"una\"  #excepciones femeninas\n",
    "    if animal in [\"koala\", \"panda\", \"águila\"]:\n",
    "        artículo = \"un\"  #excepciones masculinas\n",
    "    return artículo + \" \" + animal\n",
    "\n",
    "\n",
    "def proponeRespuesta(hoja):\n",
    "    if hoja:\n",
    "        animalViejo = hoja[0]\n",
    "        resp = input(\"El animal es %s?: \" % articula(animalViejo))\n",
    "        if resp in respuestaNO:\n",
    "            print(\"Lo siento, no he vivido lo suficiente.\")\n",
    "            animalNuevo = input(\"Cuál animal era?: \")\n",
    "            print(\"Qué pregunta harías cuya respuesta sea afirmativa\")\n",
    "            print(\"para %s y negativa para %s?\" % (articula(animalNuevo), articula(animalViejo)))\n",
    "            pregunta = input(\"El animal ... \")\n",
    "            print(\"Gracias, aprendí la lección.\")\n",
    "            hoja[0] = pregunta\n",
    "            hoja.extend([[animalNuevo], [animalViejo]])\n",
    "        else:\n",
    "            print(\"Ah!, lo sabía!\")\n",
    "    else:\n",
    "        print(\"Hubo un error en el programa!\")\n",
    "\n",
    "\n",
    "def pregunta(cuestion):\n",
    "    if cuestion:\n",
    "        if len(cuestion) == 1:  # hoja\n",
    "            proponeRespuesta(cuestion)\n",
    "        else:\n",
    "            resp = input(\"El animal %s?: \" % cuestion[0])\n",
    "            if resp in respuestaNO:\n",
    "                pregunta(cuestion[2])\n",
    "            else:\n",
    "                pregunta(cuestion[1])\n",
    "\n",
    "\n",
    "def main():\n",
    "    arch = \"animal.txt\"\n",
    "    raiz = leeArchivo(arch)\n",
    "    if not raiz:\n",
    "        raiz = [\"oso\"]\n",
    "    print(\"Piensa en un animal...\")\n",
    "    de_nuevo = True\n",
    "    while de_nuevo:\n",
    "        pregunta(raiz)\n",
    "        resp = input(\"Juegas de nuevo?:\")\n",
    "        de_nuevo = not (resp in respuestaNO)\n",
    "    with open(arch, \"w\", encoding=\"UTF-8\") as f:\n",
    "        f.write(str(raiz))\n",
    "\n",
    "\n",
    "if __name__ == '__main__':\n",
    "    main()"
   ]
  },
  {
   "cell_type": "code",
   "execution_count": null,
   "metadata": {
    "collapsed": true
   },
   "outputs": [],
   "source": []
  }
 ],
 "metadata": {
  "kernelspec": {
   "display_name": "Python 3",
   "language": "python",
   "name": "python3"
  },
  "language_info": {
   "codemirror_mode": {
    "name": "ipython",
    "version": 3
   },
   "file_extension": ".py",
   "mimetype": "text/x-python",
   "name": "python",
   "nbconvert_exporter": "python",
   "pygments_lexer": "ipython3",
   "version": "3.4.2"
  }
 },
 "nbformat": 4,
 "nbformat_minor": 0
}

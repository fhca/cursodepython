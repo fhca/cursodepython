{
 "cells": [
  {
   "cell_type": "markdown",
   "metadata": {},
   "source": [
    "# Aprendiendo Python\n",
    "## Parte 1: Básico"
   ]
  },
  {
   "cell_type": "code",
   "execution_count": 1,
   "metadata": {
    "collapsed": false
   },
   "outputs": [
    {
     "data": {
      "text/plain": [
       "42"
      ]
     },
     "execution_count": 1,
     "metadata": {},
     "output_type": "execute_result"
    }
   ],
   "source": [
    "# Las líneas con gato (#), son comentarios\n",
    "# ... pero hay que poner un gato por línea\n",
    "# ... y lo que está antes del gato no es comentario.\n",
    "42 # ... es respuesta a la pregunta fundamental a la vida, el universo y todo lo demás."
   ]
  },
  {
   "cell_type": "markdown",
   "metadata": {},
   "source": [
    "Tanto en la consola de Python como en las libretas de Jupyter, cuando tecleas un valor y lo corres (con [ENTER] o [SHIFT][ENTER], según el caso), se muestra enseguida dicho valor. Un ejemplo de esto es el 42 de la línea anterior."
   ]
  },
  {
   "cell_type": "code",
   "execution_count": 2,
   "metadata": {
    "collapsed": false
   },
   "outputs": [
    {
     "data": {
      "text/plain": [
       "'El respeto al derecho ajeno es la paz.'"
      ]
     },
     "execution_count": 2,
     "metadata": {},
     "output_type": "execute_result"
    }
   ],
   "source": [
    "# Ejemplos de valores en Python\n",
    "\"El respeto al derecho ajeno es la paz.\"  # cadena"
   ]
  },
  {
   "cell_type": "code",
   "execution_count": 3,
   "metadata": {
    "collapsed": false
   },
   "outputs": [
    {
     "data": {
      "text/plain": [
       "'Fernando \"el Toro\" Valenzuela'"
      ]
     },
     "execution_count": 3,
     "metadata": {},
     "output_type": "execute_result"
    }
   ],
   "source": [
    "'Fernando \"el Toro\" Valenzuela'  # cadena (por si requieres usar comillas dentro de una cadena)"
   ]
  },
  {
   "cell_type": "code",
   "execution_count": 4,
   "metadata": {
    "collapsed": false
   },
   "outputs": [
    {
     "data": {
      "text/plain": [
       "'Comillas \"dentro\" de comillas'"
      ]
     },
     "execution_count": 4,
     "metadata": {},
     "output_type": "execute_result"
    }
   ],
   "source": [
    "\"Comillas \\\"dentro\\\" de comillas\"  # esto es otra forma de poener comillas dentro de comillas"
   ]
  },
  {
   "cell_type": "code",
   "execution_count": 5,
   "metadata": {
    "collapsed": false
   },
   "outputs": [
    {
     "data": {
      "text/plain": [
       "(2, 3, 4)"
      ]
     },
     "execution_count": 5,
     "metadata": {},
     "output_type": "execute_result"
    }
   ],
   "source": [
    "(2,3,4)  # esto se llama \"tupla\" en python"
   ]
  },
  {
   "cell_type": "code",
   "execution_count": 6,
   "metadata": {
    "collapsed": false
   },
   "outputs": [
    {
     "data": {
      "text/plain": [
       "[2, 3, 4]"
      ]
     },
     "execution_count": 6,
     "metadata": {},
     "output_type": "execute_result"
    }
   ],
   "source": [
    "[2,3,4]  # esto se llama \"lista\" en python"
   ]
  },
  {
   "cell_type": "code",
   "execution_count": 1,
   "metadata": {
    "collapsed": false
   },
   "outputs": [
    {
     "data": {
      "text/plain": [
       "'cadena con triple comilla\\nque puede ocupar varias líneas...'"
      ]
     },
     "execution_count": 1,
     "metadata": {},
     "output_type": "execute_result"
    }
   ],
   "source": [
    "\"\"\"cadena con triple comilla\n",
    "que puede ocupar varias líneas...\"\"\""
   ]
  },
  {
   "cell_type": "markdown",
   "metadata": {},
   "source": [
    "En las libretas, sólo el último valor se mostrará. En un programa (archivo con código y terminación '`.py`'), tendrás que usar `print` para mostrar valores, pues los valores por si sólos, como en los ejemplos anteriores, equivalen a comentarios:"
   ]
  },
  {
   "cell_type": "code",
   "execution_count": 2,
   "metadata": {
    "collapsed": false
   },
   "outputs": [
    {
     "data": {
      "text/plain": [
       "2"
      ]
     },
     "execution_count": 2,
     "metadata": {},
     "output_type": "execute_result"
    }
   ],
   "source": [
    "\"Lo siguiente calcula una suma:\"\n",
    "2+3\n",
    "4-2   # Jupyter sólo muestra el último valor"
   ]
  },
  {
   "cell_type": "code",
   "execution_count": 3,
   "metadata": {
    "collapsed": false
   },
   "outputs": [
    {
     "name": "stdout",
     "output_type": "stream",
     "text": [
      "5\n",
      "2\n"
     ]
    }
   ],
   "source": [
    "print(2+3)\n",
    "print(4-2)  # sin embargo, con print se muestran todos los resultados de una celda"
   ]
  },
  {
   "cell_type": "code",
   "execution_count": 4,
   "metadata": {
    "collapsed": false
   },
   "outputs": [
    {
     "name": "stdout",
     "output_type": "stream",
     "text": [
      "Hola\n"
     ]
    }
   ],
   "source": [
    "print(\"Hola\")"
   ]
  },
  {
   "cell_type": "code",
   "execution_count": 5,
   "metadata": {
    "collapsed": false
   },
   "outputs": [
    {
     "name": "stdout",
     "output_type": "stream",
     "text": [
      "cadena con triple comilla\n",
      "que puede ocupar varias líneas...\n"
     ]
    }
   ],
   "source": [
    "print(\"\"\"cadena con triple comilla\n",
    "que puede ocupar varias líneas...\"\"\")"
   ]
  },
  {
   "cell_type": "code",
   "execution_count": 6,
   "metadata": {
    "collapsed": false
   },
   "outputs": [
    {
     "name": "stdout",
     "output_type": "stream",
     "text": [
      "6\n"
     ]
    }
   ],
   "source": [
    "print(2 * 3)"
   ]
  },
  {
   "cell_type": "markdown",
   "metadata": {},
   "source": [
    "En Python 2 no es necesario poner paréntesis con el `print`. En Python 3 el `print` DEBE llevar paréntesis. Aquí sólo manejaremos Python 3 ya que el Python 2 (2.7 por ejemplo) pronto se descontinuará su uso."
   ]
  },
  {
   "cell_type": "markdown",
   "metadata": {},
   "source": [
    "## Operadores"
   ]
  },
  {
   "cell_type": "code",
   "execution_count": 20,
   "metadata": {
    "collapsed": false
   },
   "outputs": [
    {
     "data": {
      "text/plain": [
       "2.3333333333333335"
      ]
     },
     "execution_count": 20,
     "metadata": {},
     "output_type": "execute_result"
    }
   ],
   "source": [
    "7 / 3"
   ]
  },
  {
   "cell_type": "code",
   "execution_count": 13,
   "metadata": {
    "collapsed": false
   },
   "outputs": [
    {
     "data": {
      "text/plain": [
       "2"
      ]
     },
     "execution_count": 13,
     "metadata": {},
     "output_type": "execute_result"
    }
   ],
   "source": [
    "# División entera de enteros\n",
    "7 // 3"
   ]
  },
  {
   "cell_type": "code",
   "execution_count": 14,
   "metadata": {
    "collapsed": false
   },
   "outputs": [
    {
     "data": {
      "text/plain": [
       "1"
      ]
     },
     "execution_count": 14,
     "metadata": {},
     "output_type": "execute_result"
    }
   ],
   "source": [
    "# Módulo = resto de dividir por...\n",
    "7 % 3"
   ]
  },
  {
   "cell_type": "code",
   "execution_count": 7,
   "metadata": {
    "collapsed": false
   },
   "outputs": [
    {
     "data": {
      "text/plain": [
       "True"
      ]
     },
     "execution_count": 7,
     "metadata": {},
     "output_type": "execute_result"
    }
   ],
   "source": [
    "# Compara valores (devuelve un valor booleano, verdadero o falso). IMPORTANTE: son DOS signos igual juntos\n",
    "2 * 3 == 6"
   ]
  },
  {
   "cell_type": "code",
   "execution_count": 8,
   "metadata": {
    "collapsed": false
   },
   "outputs": [],
   "source": [
    "# 2*3=6   # Esto no funciona!!!"
   ]
  },
  {
   "cell_type": "code",
   "execution_count": 151,
   "metadata": {
    "collapsed": false
   },
   "outputs": [
    {
     "data": {
      "text/plain": [
       "True"
      ]
     },
     "execution_count": 151,
     "metadata": {},
     "output_type": "execute_result"
    }
   ],
   "source": [
    "2 + 3 <= 5"
   ]
  },
  {
   "cell_type": "code",
   "execution_count": 10,
   "metadata": {
    "collapsed": false
   },
   "outputs": [
    {
     "data": {
      "text/plain": [
       "192"
      ]
     },
     "execution_count": 10,
     "metadata": {},
     "output_type": "execute_result"
    }
   ],
   "source": [
    "# Esto quizás no es lo que esperabas, primero hace la multiplicación, resultando un 6, \n",
    "# y luego hace un \"desplazamiento de bits\" hacia la izquierda, esto es 6 == 110b,\n",
    "# 110b << 5 == 11000000b == 64+128 == 192\n",
    "2 * 3 << 5"
   ]
  },
  {
   "cell_type": "markdown",
   "metadata": {},
   "source": [
    "## Variables"
   ]
  },
  {
   "cell_type": "markdown",
   "metadata": {},
   "source": [
    "Para poderte referir a valores se pueden usar \"variables\", en Python estas son más como _etiquetas_ que se le _cuelgan_ a valores existentes. Los valores en Python se llaman formalmente **objetos**."
   ]
  },
  {
   "cell_type": "code",
   "execution_count": 12,
   "metadata": {
    "collapsed": false
   },
   "outputs": [
    {
     "name": "stdout",
     "output_type": "stream",
     "text": [
      "5\n"
     ]
    }
   ],
   "source": [
    "x = 5\n",
    "print(x)"
   ]
  },
  {
   "cell_type": "code",
   "execution_count": 13,
   "metadata": {
    "collapsed": false
   },
   "outputs": [],
   "source": [
    "y = x**2 + 2*x + 7"
   ]
  },
  {
   "cell_type": "code",
   "execution_count": 14,
   "metadata": {
    "collapsed": false
   },
   "outputs": [
    {
     "name": "stdout",
     "output_type": "stream",
     "text": [
      "Valor de x: 5 Valor de y: 42\n"
     ]
    }
   ],
   "source": [
    "print(\"Valor de x:\", x, \"Valor de y:\", y)"
   ]
  },
  {
   "cell_type": "code",
   "execution_count": 15,
   "metadata": {
    "collapsed": false
   },
   "outputs": [
    {
     "name": "stdout",
     "output_type": "stream",
     "text": [
      "Hola\n"
     ]
    }
   ],
   "source": [
    "# Todo en Python es objeto...\n",
    "p = print\n",
    "p(\"Hola\")"
   ]
  },
  {
   "cell_type": "markdown",
   "metadata": {},
   "source": [
    "Como puedes notar, en Python las \"variables\" no se \"declaran\" como en otros lenguajes, así su _tipo de dato_ es el del objeto que en ese momento tienen asignado."
   ]
  },
  {
   "cell_type": "code",
   "execution_count": 3,
   "metadata": {
    "collapsed": false
   },
   "outputs": [
    {
     "name": "stdout",
     "output_type": "stream",
     "text": [
      "(<class 'int'>, <class 'int'>, <class 'float'>, <class 'str'>) <class 'tuple'>\n"
     ]
    }
   ],
   "source": [
    "x = 5\n",
    "y = 7.3\n",
    "z = \"hola, soy una cadena!\"\n",
    "w = type(5),  type(x), type(y), type(z)\n",
    "print(w, type(w))"
   ]
  },
  {
   "cell_type": "markdown",
   "metadata": {},
   "source": [
    "Todo objeto en Python tiene un _identificador_ único (difiere con cada corrida del programa). Pero nota como la variable no es un objeto por si misma, si no que es únicamente el objeto que tiene asignado:"
   ]
  },
  {
   "cell_type": "code",
   "execution_count": 24,
   "metadata": {
    "collapsed": false
   },
   "outputs": [
    {
     "name": "stdout",
     "output_type": "stream",
     "text": [
      "id(5): 4297366624\n",
      "id(x): 4297366624\n",
      "id(y): 4297366624\n",
      "id(6): 4297366656\n"
     ]
    }
   ],
   "source": [
    "x = 5\n",
    "y = 5\n",
    "print(\"id(5):\", id(5))\n",
    "print(\"id(x):\", id(x))  # El mismo que 5\n",
    "print(\"id(y):\", id(y))  # el mismo que 5\n",
    "print(\"id(6):\", id(6))  # otro valor"
   ]
  },
  {
   "cell_type": "markdown",
   "metadata": {},
   "source": [
    "En Python se pueden hacer listas de lo que sea... algunos las usan como arreglos o matrices, aunque no son muy veloces. Pero son muy útiles para pequeñas aplicaciones."
   ]
  },
  {
   "cell_type": "code",
   "execution_count": 25,
   "metadata": {
    "collapsed": false
   },
   "outputs": [
    {
     "name": "stdout",
     "output_type": "stream",
     "text": [
      "[1, 2, 3]\n",
      "[4, 5, 6]\n",
      "[1, 2, 3, 4, 5, 6]\n"
     ]
    }
   ],
   "source": [
    "a = [1, 2, 3]\n",
    "b = [4, 5, 6]\n",
    "print(a)\n",
    "print(b)\n",
    "print(a+b)  # '+' concatena listas (crea una nueva lista), en Numpy veremos como sumar elemento por elemento."
   ]
  },
  {
   "cell_type": "markdown",
   "metadata": {},
   "source": [
    "Las listas son muy flexibles, aunque eso tiene un precio en espacio y tiempo de ejecución:"
   ]
  },
  {
   "cell_type": "code",
   "execution_count": 4,
   "metadata": {
    "collapsed": false
   },
   "outputs": [
    {
     "name": "stdout",
     "output_type": "stream",
     "text": [
      "['cabeza', ['pancita', [1, 2, 3, 'etc.']], 'colita']\n",
      "lista de 3 elementos\n",
      "Primero: cabeza\n",
      "Segundo: ['pancita', [1, 2, 3, 'etc.']]\n",
      "Tercero: colita\n"
     ]
    }
   ],
   "source": [
    "a = [\"cabeza\", [\"pancita\", [1, 2, 3, \"etc.\"]], \"colita\"]\n",
    "print(a)\n",
    "print(\"lista de\", len(a), \"elementos\")  # numero de elementos de la lista (en su nivel más exterior)\n",
    "print(\"Primero:\", a[0])\n",
    "print(\"Segundo:\", a[1])\n",
    "print(\"Tercero:\", a[2])"
   ]
  },
  {
   "cell_type": "markdown",
   "metadata": {
    "collapsed": true
   },
   "source": [
    "Un objeto se destruye (deja de ocupar memoria) si no hay variables que lo tengan asignado. Basta con reasignar una variable para \"destruir\" el objeto que contenía. Así en Python no tienes que preocuparte (mucho) por destruir objetos, se destruyen cuando ya no los usas."
   ]
  },
  {
   "cell_type": "code",
   "execution_count": 27,
   "metadata": {
    "collapsed": false
   },
   "outputs": [
    {
     "name": "stdout",
     "output_type": "stream",
     "text": [
      "x es una lista de 1000000 enteros\n",
      "x ocupa 9000112 bytes\n",
      "x ahora es un sólo entero\n",
      "x ahora ocupa 28 bytes\n"
     ]
    }
   ],
   "source": [
    "x = list(range(1000000))\n",
    "print(\"x es una lista de\", len(x), \"enteros\")\n",
    "import sys\n",
    "print(\"x ocupa\", sys.getsizeof(x), \"bytes\")\n",
    "x = 5\n",
    "print(\"x ahora es un sólo entero\")\n",
    "print(\"x ahora ocupa\", sys.getsizeof(x), \"bytes\")"
   ]
  },
  {
   "cell_type": "markdown",
   "metadata": {},
   "source": [
    "## Iteraciones"
   ]
  },
  {
   "cell_type": "code",
   "execution_count": 28,
   "metadata": {
    "collapsed": false
   },
   "outputs": [
    {
     "name": "stdout",
     "output_type": "stream",
     "text": [
      "poly quiere una galleta, poly quiere una galleta, poly quiere una galleta, \n"
     ]
    }
   ],
   "source": [
    "print(\"poly quiere una galleta, \" * 3)"
   ]
  },
  {
   "cell_type": "code",
   "execution_count": 29,
   "metadata": {
    "collapsed": false
   },
   "outputs": [
    {
     "name": "stdout",
     "output_type": "stream",
     "text": [
      "* * * * * \n",
      "* * * * * \n",
      "* * * * * \n",
      "* * * * * \n",
      "* * * * * \n",
      "* * * * * \n",
      "* * * * * \n",
      "* * * * * \n",
      "* * * * * \n",
      "* * * * * \n",
      "\n"
     ]
    }
   ],
   "source": [
    "# las repeticiones de cadenas pueden ser más complicadas\n",
    "print((\"* \"*5+\"\\n\")*10)"
   ]
  },
  {
   "cell_type": "code",
   "execution_count": 10,
   "metadata": {
    "collapsed": false
   },
   "outputs": [
    {
     "name": "stdout",
     "output_type": "stream",
     "text": [
      "unochivito1\n",
      "dos 2=====tres 3\n",
      "uno,siete--cuatro,cinco,seis\n"
     ]
    }
   ],
   "source": [
    "print(\"uno\", 1, sep=\"chivito\")\n",
    "print(\"dos\", 2, end=\"=====\")\n",
    "print(\"tres\", 3)\n",
    "print(\"uno\", \"siete\", sep=\",\", end=\"--\")\n",
    "print(\"cuatro\", \"cinco\", \"seis\", sep=\",\")"
   ]
  },
  {
   "cell_type": "code",
   "execution_count": 35,
   "metadata": {
    "collapsed": false
   },
   "outputs": [
    {
     "name": "stdout",
     "output_type": "stream",
     "text": [
      "quiero mango\n",
      "quiero plátano\n",
      "quiero pera\n",
      "quiero manzana\n",
      "mango mango mango mango mango \n",
      "Me gusta el mango\n",
      "plátano plátano plátano plátano plátano \n",
      "Me gusta el plátano\n",
      "pera pera pera pera pera \n",
      "Me gusta el pera\n",
      "manzana manzana manzana manzana manzana \n",
      "Me gusta el manzana\n",
      "1--2--3--4--5--6--7--8--9--10--[7, 6, 5, 4, 3, 2, 1, 0, -1, -2, -3, -4, -5]\n",
      "[2, 4, 6, 8, 10]\n",
      "7 49\n",
      "5 25\n",
      "3 9\n",
      "1 1\n",
      "-1 1\n",
      "-3 9\n",
      "-5 25\n",
      "-7 49\n",
      "-9 81\n",
      "1 x 3 = 3\n",
      "1.1 x 3 = 3.3000000000000003\n",
      "1.2000000000000002 x 3 = 3.6000000000000005\n",
      "1.3000000000000003 x 3 = 3.900000000000001\n",
      "1.4000000000000004 x 3 = 4.200000000000001\n",
      "1.5000000000000004 x 3 = 4.500000000000002\n",
      "1.6000000000000005 x 3 = 4.800000000000002\n",
      "1.7000000000000006 x 3 = 5.100000000000001\n",
      "1.8000000000000007 x 3 = 5.400000000000002\n",
      "1.9000000000000008 x 3 = 5.700000000000003\n",
      "2.000000000000001 x 3 = 6.000000000000003\n",
      "2.100000000000001 x 3 = 6.3000000000000025\n",
      "2.200000000000001 x 3 = 6.600000000000003\n",
      "2.300000000000001 x 3 = 6.900000000000004\n",
      "2.4000000000000012 x 3 = 7.200000000000004\n",
      "2.5000000000000013 x 3 = 7.5000000000000036\n",
      "2.6000000000000014 x 3 = 7.800000000000004\n",
      "2.7000000000000015 x 3 = 8.100000000000005\n",
      "2.8000000000000016 x 3 = 8.400000000000006\n",
      "2.9000000000000017 x 3 = 8.700000000000005\n"
     ]
    }
   ],
   "source": [
    "# for sirve para \"iterar\" sobre una lista o tupla\n",
    "frutas = ['mango', 'plátano', 'pera', 'manzana']\n",
    "for f in frutas:\n",
    "    print(\"quiero\", f)\n",
    "\n",
    "for elemento in frutas:\n",
    "    print((elemento + \" \")* 5)\n",
    "    print(\"Me gusta el\", elemento)\n",
    "    \n",
    "for i in range(1, 11):\n",
    "    print(i, sep=\"..\", end=\"--\")\n",
    "\n",
    "print(list(range(7,-6,-1)))\n",
    "print(list(range(2, 11, 2)))\n",
    "for n in range(7, -10, -2):\n",
    "    print(n, n**2)\n",
    "\n",
    "n = 1\n",
    "for x in range(20):\n",
    "    print(n, \"x\", 3, \"=\", n * 3)\n",
    "    n += 0.1"
   ]
  },
  {
   "cell_type": "code",
   "execution_count": 95,
   "metadata": {
    "collapsed": false
   },
   "outputs": [
    {
     "name": "stdout",
     "output_type": "stream",
     "text": [
      "[0, 1, 2, 3, 4, 5, 6, 7, 8, 9]\n",
      "[1, 2, 3, 4, 5, 6, 7, 8, 9, 10]\n",
      "[1, 3, 5, 7, 9]\n",
      "[10, 9, 8, 7, 6, 5, 4, 3, 2, 1]\n",
      "[100, 98, 96, 94, 92, 90, 88, 86, 84, 82, 80, 78, 76, 74, 72, 70, 68, 66, 64, 62, 60, 58, 56, 54, 52, 50, 48, 46, 44, 42, 40, 38, 36, 34, 32, 30, 28, 26, 24, 22, 20, 18, 16, 14, 12, 10, 8, 6, 4, 2, 0]\n",
      "[-5, -4, -3, -2, -1, 0, 1, 2, 3, 4, 5]\n",
      "[[1, 2, 3], [4, 5, 6]]\n",
      "[[6, 6, 6], [7, 7, 7]]\n",
      "[[1, 2, 3], [4, 5, 6], [6, 6, 6], [7, 7, 7]]\n",
      "renglones: 4\n",
      "columnas: 3\n"
     ]
    }
   ],
   "source": [
    "print(list(range(10)))  # 0 .. 9\n",
    "print(list(range(1, 11)))  # 1 .. 10\n",
    "print(list(range(1, 11, 2)))  # de dos en dos\n",
    "print(list(range(10, 0, -1)))\n",
    "print(list(range(100, -2, -2)))\n",
    "print(list(range(-5, 6)))\n",
    "matriz1=[[1,2,3],[4,5,6]]\n",
    "print(matriz1)\n",
    "matriz2=[[6,6,6],[7,7,7]]\n",
    "print(matriz2)\n",
    "resultado = matriz1 + matriz2\n",
    "print(resultado)\n",
    "print(\"renglones:\", len(resultado))\n",
    "print(\"columnas:\", len(resultado[0]))"
   ]
  },
  {
   "cell_type": "code",
   "execution_count": 26,
   "metadata": {
    "collapsed": false
   },
   "outputs": [
    {
     "name": "stdout",
     "output_type": "stream",
     "text": [
      "0 uno\n",
      "1 dos\n",
      "2 tres\n"
     ]
    },
    {
     "data": {
      "text/plain": [
       "'uno'"
      ]
     },
     "execution_count": 26,
     "metadata": {},
     "output_type": "execute_result"
    }
   ],
   "source": [
    "a=[\"uno\", \"dos\", \"tres\"]\n",
    "indice = 0\n",
    "for numero in a:\n",
    "    print(indice, numero)\n",
    "    indice += 1\n",
    "\n",
    "a[0]"
   ]
  },
  {
   "cell_type": "code",
   "execution_count": 27,
   "metadata": {
    "collapsed": false
   },
   "outputs": [
    {
     "name": "stdout",
     "output_type": "stream",
     "text": [
      "0 uno\n",
      "1 dos\n",
      "2 tres\n"
     ]
    }
   ],
   "source": [
    "a=[\"uno\", \"dos\", \"tres\"]\n",
    "for indice, numero in enumerate(a):\n",
    "    print(indice, numero)"
   ]
  },
  {
   "cell_type": "code",
   "execution_count": 77,
   "metadata": {
    "collapsed": false
   },
   "outputs": [
    {
     "name": "stdout",
     "output_type": "stream",
     "text": [
      "1: quiero frambuesa\n",
      "2: quiero mango\n",
      "3: quiero plátano\n",
      "4: quiero manzana\n",
      "5: quiero kiwi\n",
      "6: quiero pera\n",
      "7: quiero fresa\n",
      "8: quiero aguacate\n"
     ]
    }
   ],
   "source": [
    "# En Python, al contrario de otros lenguajes, no se suele iterar incrementando un entero\n",
    "# e indexar un iterable con él, aunque es posible, sino que se itera sobre objetos \"iterables\",\n",
    "# una lista o tupla, por ejemplo, y de ser necesario, se puede recuperar el índice \n",
    "# del elemento actual de diversas formas, con un contador, o con enumerate:\n",
    "for i, f in enumerate(frutas):\n",
    "    print(i + 1, \": \", sep='', end=\"\")\n",
    "    print(\"quiero\", f)"
   ]
  },
  {
   "cell_type": "code",
   "execution_count": 49,
   "metadata": {
    "collapsed": false
   },
   "outputs": [
    {
     "name": "stdout",
     "output_type": "stream",
     "text": [
      "La pera es muy jugosa!\n"
     ]
    }
   ],
   "source": [
    "print(\"La\", frutas[2], \"es muy jugosa!\")  # después de una coma y alrededor de operadores se\n",
    "                                          # acostumbra dejar espacios en blanco por claridad"
   ]
  },
  {
   "cell_type": "code",
   "execution_count": 50,
   "metadata": {
    "collapsed": false
   },
   "outputs": [
    {
     "name": "stdout",
     "output_type": "stream",
     "text": [
      "Una manzana al día trae salud y alegría.\n"
     ]
    }
   ],
   "source": [
    "# el último elemento de toda lista tiene índice -1, el penúltimo -2, etc.\n",
    "print(\"Una\", frutas[-1], \"al día trae salud y alegría.\")"
   ]
  },
  {
   "cell_type": "code",
   "execution_count": 36,
   "metadata": {
    "collapsed": false
   },
   "outputs": [
    {
     "name": "stdout",
     "output_type": "stream",
     "text": [
      "['mango', 'plátano', 'pera', 'manzana']\n"
     ]
    }
   ],
   "source": [
    "print(frutas)"
   ]
  },
  {
   "cell_type": "code",
   "execution_count": 23,
   "metadata": {
    "collapsed": false
   },
   "outputs": [
    {
     "name": "stdout",
     "output_type": "stream",
     "text": [
      "A B C D E F G H I J K L M N O P Q R S T U V W X Y Z \n",
      "B C D E F G H I J K L M N O P Q R S T U V W X Y Z A \n",
      "C D E F G H I J K L M N O P Q R S T U V W X Y Z A B \n",
      "D E F G H I J K L M N O P Q R S T U V W X Y Z A B C \n",
      "E F G H I J K L M N O P Q R S T U V W X Y Z A B C D \n",
      "F G H I J K L M N O P Q R S T U V W X Y Z A B C D E \n",
      "G H I J K L M N O P Q R S T U V W X Y Z A B C D E F \n",
      "H I J K L M N O P Q R S T U V W X Y Z A B C D E F G \n",
      "I J K L M N O P Q R S T U V W X Y Z A B C D E F G H \n",
      "J K L M N O P Q R S T U V W X Y Z A B C D E F G H I \n",
      "K L M N O P Q R S T U V W X Y Z A B C D E F G H I J \n",
      "L M N O P Q R S T U V W X Y Z A B C D E F G H I J K \n",
      "M N O P Q R S T U V W X Y Z A B C D E F G H I J K L \n",
      "N O P Q R S T U V W X Y Z A B C D E F G H I J K L M \n",
      "O P Q R S T U V W X Y Z A B C D E F G H I J K L M N \n",
      "P Q R S T U V W X Y Z A B C D E F G H I J K L M N O \n",
      "Q R S T U V W X Y Z A B C D E F G H I J K L M N O P \n",
      "R S T U V W X Y Z A B C D E F G H I J K L M N O P Q \n",
      "S T U V W X Y Z A B C D E F G H I J K L M N O P Q R \n",
      "T U V W X Y Z A B C D E F G H I J K L M N O P Q R S \n",
      "U V W X Y Z A B C D E F G H I J K L M N O P Q R S T \n",
      "V W X Y Z A B C D E F G H I J K L M N O P Q R S T U \n",
      "W X Y Z A B C D E F G H I J K L M N O P Q R S T U V \n",
      "X Y Z A B C D E F G H I J K L M N O P Q R S T U V W \n",
      "Y Z A B C D E F G H I J K L M N O P Q R S T U V W X \n",
      "Z A B C D E F G H I J K L M N O P Q R S T U V W X Y \n"
     ]
    }
   ],
   "source": [
    "for desplazamiento in range(26):\n",
    "    inicio = ord('A') + desplazamiento\n",
    "    final = ord('Z') + desplazamiento\n",
    "\n",
    "    for letra in range(inicio, final + 1):\n",
    "        if letra > 90:\n",
    "            letra -= 26\n",
    "        print(chr(letra), end=\" \")\n",
    "    print()\n"
   ]
  },
  {
   "cell_type": "code",
   "execution_count": 60,
   "metadata": {
    "collapsed": false
   },
   "outputs": [
    {
     "name": "stdout",
     "output_type": "stream",
     "text": [
      "A B C D E F G H I J K L M N O P Q R S T U V W X Y Z \n",
      "B C D E F G H I J K L M N O P Q R S T U V W X Y Z A \n",
      "C D E F G H I J K L M N O P Q R S T U V W X Y Z A B \n",
      "D E F G H I J K L M N O P Q R S T U V W X Y Z A B C \n",
      "E F G H I J K L M N O P Q R S T U V W X Y Z A B C D \n",
      "F G H I J K L M N O P Q R S T U V W X Y Z A B C D E \n",
      "G H I J K L M N O P Q R S T U V W X Y Z A B C D E F \n",
      "H I J K L M N O P Q R S T U V W X Y Z A B C D E F G \n",
      "I J K L M N O P Q R S T U V W X Y Z A B C D E F G H \n",
      "J K L M N O P Q R S T U V W X Y Z A B C D E F G H I \n",
      "K L M N O P Q R S T U V W X Y Z A B C D E F G H I J \n",
      "L M N O P Q R S T U V W X Y Z A B C D E F G H I J K \n",
      "M N O P Q R S T U V W X Y Z A B C D E F G H I J K L \n",
      "N O P Q R S T U V W X Y Z A B C D E F G H I J K L M \n",
      "O P Q R S T U V W X Y Z A B C D E F G H I J K L M N \n",
      "P Q R S T U V W X Y Z A B C D E F G H I J K L M N O \n",
      "Q R S T U V W X Y Z A B C D E F G H I J K L M N O P \n",
      "R S T U V W X Y Z A B C D E F G H I J K L M N O P Q \n",
      "S T U V W X Y Z A B C D E F G H I J K L M N O P Q R \n",
      "T U V W X Y Z A B C D E F G H I J K L M N O P Q R S \n",
      "U V W X Y Z A B C D E F G H I J K L M N O P Q R S T \n",
      "V W X Y Z A B C D E F G H I J K L M N O P Q R S T U \n",
      "W X Y Z A B C D E F G H I J K L M N O P Q R S T U V \n",
      "X Y Z A B C D E F G H I J K L M N O P Q R S T U V W \n",
      "Y Z A B C D E F G H I J K L M N O P Q R S T U V W X \n",
      "Z A B C D E F G H I J K L M N O P Q R S T U V W X Y \n",
      "tan tan\n"
     ]
    }
   ],
   "source": [
    "for desplazamiento in range(26):\n",
    "    inicio = ord('A')\n",
    "    final = ord('Z')\n",
    "\n",
    "    for letra in range(inicio, final + 1):\n",
    "        letra = (letra - inicio + desplazamiento) % 26 + inicio\n",
    "        print(chr(letra), end=\" \")\n",
    "    print()\n",
    "print(\"tan tan\")"
   ]
  },
  {
   "cell_type": "code",
   "execution_count": 65,
   "metadata": {
    "collapsed": false
   },
   "outputs": [
    {
     "data": {
      "text/plain": [
       "['El', 'respeto', 'al', 'derecho', 'ajeno', 'es', 'la', 'paz']"
      ]
     },
     "execution_count": 65,
     "metadata": {},
     "output_type": "execute_result"
    }
   ],
   "source": [
    "\"El respeto al derecho ajeno es la paz\".split()"
   ]
  },
  {
   "cell_type": "code",
   "execution_count": 29,
   "metadata": {
    "collapsed": false
   },
   "outputs": [
    {
     "data": {
      "text/plain": [
       "'a'"
      ]
     },
     "execution_count": 29,
     "metadata": {},
     "output_type": "execute_result"
    }
   ],
   "source": [
    "chr(97)"
   ]
  },
  {
   "cell_type": "code",
   "execution_count": 63,
   "metadata": {
    "collapsed": false
   },
   "outputs": [
    {
     "name": "stdout",
     "output_type": "stream",
     "text": [
      "abra\n",
      "abrakadabra\n",
      "abrakadabrakadabra\n",
      "abrakadabrakadabrakadabra\n",
      "abrakadabrakadabrakadabrakadabra\n",
      "abrakadabrakadabrakadabrakadabrakadabra\n",
      "abrakadabrakadabrakadabrakadabrakadabrakadabra\n",
      "abrakadabrakadabrakadabrakadabrakadabrakadabrakadabra\n",
      "abrakadabrakadabrakadabrakadabrakadabrakadabrakadabrakadabra\n",
      "abrakadabrakadabrakadabrakadabrakadabrakadabrakadabrakadabrakadabra\n"
     ]
    }
   ],
   "source": [
    "a = \"abra\"\n",
    "b = \"kadabra\"\n",
    "for i in range(10):\n",
    "    print(a + b * i)"
   ]
  },
  {
   "cell_type": "code",
   "execution_count": 68,
   "metadata": {
    "collapsed": false
   },
   "outputs": [
    {
     "name": "stdout",
     "output_type": "stream",
     "text": [
      "Elpa respetopa alpa derechopa ajenopa espa lapa pazpa \n"
     ]
    }
   ],
   "source": [
    "y = \"El respeto al derecho ajeno es la paz\"\n",
    "x = \"\"\n",
    "for i in y.split():\n",
    "    x = x + i + \"pa \"\n",
    "print(x)\n"
   ]
  },
  {
   "cell_type": "code",
   "execution_count": 72,
   "metadata": {
    "collapsed": false
   },
   "outputs": [
    {
     "name": "stdout",
     "output_type": "stream",
     "text": [
      "Elpa respetopa alpa derechopa ajenopa espa lapa pazpa \n"
     ]
    }
   ],
   "source": [
    "y = \"El respeto al derecho ajeno es la paz\"\n",
    "x = list()\n",
    "for i in y.split():\n",
    "    x.extend([i, \"pa \"])\n",
    "print(\"\".join(x))"
   ]
  },
  {
   "cell_type": "code",
   "execution_count": 37,
   "metadata": {
    "collapsed": false
   },
   "outputs": [
    {
     "name": "stdout",
     "output_type": "stream",
     "text": [
      "['mango', 'plátano', 'pera', 'manzana', 'mango', 'plátano', 'pera', 'manzana', 'mango', 'plátano', 'pera', 'manzana', 'mango', 'plátano', 'pera', 'manzana', 'mango', 'plátano', 'pera', 'manzana']\n"
     ]
    }
   ],
   "source": [
    "print(frutas * 5)"
   ]
  },
  {
   "cell_type": "code",
   "execution_count": 33,
   "metadata": {
    "collapsed": false
   },
   "outputs": [
    {
     "data": {
      "text/plain": [
       "[1, 2, 3, 5]"
      ]
     },
     "execution_count": 33,
     "metadata": {},
     "output_type": "execute_result"
    }
   ],
   "source": [
    "a = [1,2,3]\n",
    "b = a + [5]\n",
    "b"
   ]
  },
  {
   "cell_type": "code",
   "execution_count": 39,
   "metadata": {
    "collapsed": false
   },
   "outputs": [
    {
     "name": "stdout",
     "output_type": "stream",
     "text": [
      "['mango', 'plátano', 'pera', 'manzana', 'aguacate', 'aguacate']\n",
      "['mango', 'plátano', 'pera', 'manzana', 'aguacate', 'aguacate', 'chicozapote']\n"
     ]
    },
    {
     "data": {
      "text/plain": [
       "['mango', 'plátano', 'pera', 'manzana', 'aguacate', 'aguacate']"
      ]
     },
     "execution_count": 39,
     "metadata": {},
     "output_type": "execute_result"
    }
   ],
   "source": [
    "# agrega un nuevo elemento a la lista\n",
    "frutas.append(\"aguacate\")\n",
    "print(frutas)\n",
    "# print(frutas + \"chicozapote\")  # no funciona, lo de la derecha no es una lista\n",
    "print(frutas + [\"chicozapote\"])  # nótese que es indispensable poner las comillas, los corchees dicen que es lista\n",
    "frutas"
   ]
  },
  {
   "cell_type": "code",
   "execution_count": 42,
   "metadata": {
    "collapsed": false
   },
   "outputs": [
    {
     "name": "stdout",
     "output_type": "stream",
     "text": [
      "quiero más mango\n",
      "quiero más plátano\n",
      "quiero más pera\n",
      "quiero más frambuesa\n",
      "quiero más manzana\n",
      "quiero más fresa\n",
      "quiero más kiwi\n",
      "quiero más aguacate\n"
     ]
    }
   ],
   "source": [
    "frutas = ['mango', 'plátano', 'pera', 'manzana', 'aguacate']\n",
    "frutas.extend([\"fresa\", \"kiwi\", \"frambuesa\"]) # agrega varias de una vez\n",
    "import random  # trae el módulo para aleatorizar\n",
    "random.shuffle(frutas) # revuelve la lista\n",
    "for _ in frutas:\n",
    "    print(\"quiero más\", _)  # se puede poner una expresión de una sola linea\n",
    "                                         # aunque se desaconseja"
   ]
  },
  {
   "cell_type": "code",
   "execution_count": 43,
   "metadata": {
    "collapsed": false
   },
   "outputs": [
    {
     "data": {
      "text/plain": [
       "['mango',\n",
       " 'plátano',\n",
       " 'pera',\n",
       " 'frambuesa',\n",
       " 'manzana',\n",
       " 'fresa',\n",
       " 'kiwi',\n",
       " 'aguacate',\n",
       " ('granada', 'uva', 'piña')]"
      ]
     },
     "execution_count": 43,
     "metadata": {},
     "output_type": "execute_result"
    }
   ],
   "source": [
    "frutas.append((\"granada\", \"uva\", \"piña\"))\n",
    "frutas"
   ]
  },
  {
   "cell_type": "code",
   "execution_count": 38,
   "metadata": {
    "collapsed": false
   },
   "outputs": [
    {
     "name": "stdout",
     "output_type": "stream",
     "text": [
      "x ocupa 8000048 bytes\n"
     ]
    }
   ],
   "source": [
    "# Las tuplas son como las listas pero NO se pueden modificar\n",
    "# por ello son más rápidas y ocupan menos espacio\n",
    "x = tuple(range(1000000))\n",
    "print(\"x ocupa\", sys.getsizeof(x), \"bytes\")"
   ]
  },
  {
   "cell_type": "code",
   "execution_count": 47,
   "metadata": {
    "collapsed": false
   },
   "outputs": [
    {
     "data": {
      "text/plain": [
       "[9, 2, 3]"
      ]
     },
     "execution_count": 47,
     "metadata": {},
     "output_type": "execute_result"
    }
   ],
   "source": [
    "x = [1,2,3]\n",
    "x[0]=9\n",
    "x"
   ]
  },
  {
   "cell_type": "code",
   "execution_count": 54,
   "metadata": {
    "collapsed": false
   },
   "outputs": [
    {
     "name": "stdout",
     "output_type": "stream",
     "text": [
      "1\n"
     ]
    },
    {
     "data": {
      "text/plain": [
       "(9, 2, 3)"
      ]
     },
     "execution_count": 54,
     "metadata": {},
     "output_type": "execute_result"
    }
   ],
   "source": [
    "x = (1, 2, 3)\n",
    "# x.append(4)    # error!\n",
    "print(x[0])\n",
    "x = list(x)\n",
    "x[0]=9\n",
    "x = tuple(x)\n",
    "x"
   ]
  },
  {
   "cell_type": "code",
   "execution_count": 55,
   "metadata": {
    "collapsed": false
   },
   "outputs": [
    {
     "name": "stdout",
     "output_type": "stream",
     "text": [
      "a = 9\n",
      "b = 2\n",
      "c = 3\n"
     ]
    }
   ],
   "source": [
    "# En Python existen las asignaciones a tuplas de variables desde un iterable\n",
    "a, b, c = x\n",
    "print(\"a =\", a)\n",
    "print(\"b =\", b)\n",
    "print(\"c =\", c)"
   ]
  },
  {
   "cell_type": "code",
   "execution_count": 56,
   "metadata": {
    "collapsed": false
   },
   "outputs": [
    {
     "name": "stdout",
     "output_type": "stream",
     "text": [
      "a = 3\n",
      "b = 9\n",
      "c = 2\n"
     ]
    }
   ],
   "source": [
    "b, c, a = a, b, c\n",
    "print(\"a =\", a)\n",
    "print(\"b =\", b)\n",
    "print(\"c =\", c)"
   ]
  },
  {
   "cell_type": "code",
   "execution_count": 57,
   "metadata": {
    "collapsed": false
   },
   "outputs": [
    {
     "name": "stdout",
     "output_type": "stream",
     "text": [
      "x = 7 , y = 5\n"
     ]
    }
   ],
   "source": [
    "x = 5\n",
    "y = 7\n",
    "x, y = y, x  # intercambia dos valores\n",
    "print(\"x =\",x, \", y =\", y)"
   ]
  },
  {
   "cell_type": "code",
   "execution_count": 58,
   "metadata": {
    "collapsed": false
   },
   "outputs": [
    {
     "name": "stdout",
     "output_type": "stream",
     "text": [
      "(0, 0)  (0, 1)  (0, 2)  (0, 3)  (0, 4)  (0, 5)  (0, 6)  \n",
      "(1, 0)  (1, 1)  (1, 2)  (1, 3)  (1, 4)  (1, 5)  (1, 6)  \n",
      "(2, 0)  (2, 1)  (2, 2)  (2, 3)  (2, 4)  (2, 5)  (2, 6)  \n",
      "(3, 0)  (3, 1)  (3, 2)  (3, 3)  (3, 4)  (3, 5)  (3, 6)  \n",
      "(4, 0)  (4, 1)  (4, 2)  (4, 3)  (4, 4)  (4, 5)  (4, 6)  \n",
      "Esto está afuera de los 'for'\n"
     ]
    }
   ],
   "source": [
    "# En Python es NECESARIO indentar (poner una cantidad fija de blancos al inicio de una fila)\n",
    "# para indicar filas dentro de un bloque. Como hemos visto, el \"for\" lleva \":\" al final,\n",
    "# indicando que lo que viene es una expresión o un bloque de estas.\n",
    "for fila in range(5):\n",
    "    for columna in range(7):\n",
    "        print((fila, columna), end=\"  \") # en vez de cambiar de línea, se imprime lo de \"end\"\n",
    "    print() # este print está fuera del 2o ciclo, pero dentro del primero\n",
    "\n",
    "print(\"Esto está afuera de los 'for'\")"
   ]
  },
  {
   "cell_type": "code",
   "execution_count": 44,
   "metadata": {
    "collapsed": false
   },
   "outputs": [
    {
     "name": "stdout",
     "output_type": "stream",
     "text": [
      "        \n",
      "         \n",
      "        \n",
      "         \n",
      "        \n",
      "         \n",
      "        \n",
      "         \n"
     ]
    }
   ],
   "source": [
    "for i in range(8):\n",
    "    print(\" \" * (i%2) + \" \" * 8)"
   ]
  },
  {
   "cell_type": "code",
   "execution_count": 101,
   "metadata": {
    "collapsed": false
   },
   "outputs": [
    {
     "name": "stdout",
     "output_type": "stream",
     "text": [
      "\n",
      "◊ \n",
      "◊ ◊ \n",
      "◊ ◊ ◊ \n",
      "◊ ◊ ◊ ◊ \n",
      "◊ ◊ ◊ ◊ ◊ \n",
      "◊ ◊ ◊ ◊ ◊ ◊ \n",
      "◊ ◊ ◊ ◊ ◊ ◊ ◊ \n",
      "◊ ◊ ◊ ◊ ◊ ◊ ◊ ◊ \n",
      "◊ ◊ ◊ ◊ ◊ ◊ ◊ ◊ ◊ \n",
      "√√                                      √√\n",
      "  √√                                  √√\n",
      "    √√                              √√\n",
      "      √√                          √√\n",
      "        √√                      √√\n",
      "          √√                  √√\n",
      "            √√              √√\n",
      "              √√          √√\n",
      "                √√      √√\n",
      "                  √√  √√\n",
      "√√                                    √√\n",
      "  √√                                √√\n",
      "    √√                            √√\n",
      "      √√                        √√\n",
      "        √√                    √√\n",
      "          √√                √√\n",
      "            √√            √√\n",
      "              √√        √√\n",
      "                √√    √√\n",
      "                  √√√√\n"
     ]
    }
   ],
   "source": [
    "for i in range(10):\n",
    "    print(\"◊ \" * i)\n",
    "for i in range(10):\n",
    "    for j in range(i):  # se puede sustituir por multiplicaciones\n",
    "        print(\"  \", end=\"\")\n",
    "    print(\"√√\", end=\"\")\n",
    "    for j in range(19 - 2 * i):  # se puede sustituir por multiplicaciones\n",
    "        print(\"  \", end=\"\")\n",
    "    print(\"√√\")\n",
    "\n",
    "for i in range(10):\n",
    "    print(\"  \" * i, end=\"\")\n",
    "    print(\"√√\", end=\"\")\n",
    "    print(\"  \" * (18 - 2 * i), end=\"\")\n",
    "    print(\"√√\")"
   ]
  },
  {
   "cell_type": "code",
   "execution_count": 61,
   "metadata": {
    "collapsed": false
   },
   "outputs": [
    {
     "name": "stdout",
     "output_type": "stream",
     "text": [
      "√√                                      \n",
      "√√ √√                                  \n",
      "√√  √√                              \n",
      "√√   √√                          \n",
      "√√    √√                      \n",
      "√√     √√                  \n",
      "√√      √√              \n",
      "√√       √√          \n",
      "√√        √√      \n",
      "√√         √√  \n",
      "√√"
     ]
    }
   ],
   "source": [
    "for renglón in range(10):\n",
    "    print(' '*renglón, end=\"\")\n",
    "    print('√√', end=\"\")\n",
    "    print(' '*(38-4*renglón))\n",
    "    print('√√', end=\"\")\n",
    "    \n",
    "    "
   ]
  },
  {
   "cell_type": "markdown",
   "metadata": {},
   "source": [
    "# Condiciones"
   ]
  },
  {
   "cell_type": "code",
   "execution_count": null,
   "metadata": {
    "collapsed": true
   },
   "outputs": [],
   "source": [
    "\"7\"  # cadena que contiene al numero 7\n",
    "7    # entero 7\n",
    "7.0  # 7 de tipo punto flotante (puede tener decimales)"
   ]
  },
  {
   "cell_type": "code",
   "execution_count": 3,
   "metadata": {
    "collapsed": false
   },
   "outputs": [
    {
     "name": "stdout",
     "output_type": "stream",
     "text": [
      "Dame tu nombre:Felipe\n",
      "hola Felipe\n"
     ]
    }
   ],
   "source": [
    "fulanito = input(\"Dame tu nombre:\")\n",
    "print(\"hola\",fulanito)"
   ]
  },
  {
   "cell_type": "code",
   "execution_count": 6,
   "metadata": {
    "collapsed": false
   },
   "outputs": [
    {
     "name": "stdout",
     "output_type": "stream",
     "text": [
      "dame un numero:7\n",
      "9.0\n"
     ]
    }
   ],
   "source": [
    "x = float(input(\"dame un numero:\"))\n",
    "print(x+2)"
   ]
  },
  {
   "cell_type": "code",
   "execution_count": 2,
   "metadata": {
    "collapsed": false
   },
   "outputs": [
    {
     "name": "stdout",
     "output_type": "stream",
     "text": [
      "Dime un número: 7\n",
      "El número 7 es impar\n"
     ]
    }
   ],
   "source": [
    "x = int(input(\"Dime un número: \"))\n",
    "if x % 2 == 0:\n",
    "    print(\"El número {} es par\".format(x))\n",
    "else:\n",
    "    print(\"El número {} es impar\".format(x))"
   ]
  },
  {
   "cell_type": "code",
   "execution_count": 11,
   "metadata": {
    "collapsed": false
   },
   "outputs": [
    {
     "data": {
      "text/plain": [
       "10.0"
      ]
     },
     "execution_count": 11,
     "metadata": {},
     "output_type": "execute_result"
    }
   ],
   "source": [
    "float(\"7.0\")+3"
   ]
  },
  {
   "cell_type": "code",
   "execution_count": 12,
   "metadata": {
    "collapsed": false
   },
   "outputs": [
    {
     "name": "stdout",
     "output_type": "stream",
     "text": [
      "Me gusta mucho el mango\n",
      "Me gusta mucho el plátano\n",
      "Me gustan mucho las peras\n",
      "Me gusta mucho la manzana\n",
      "Me gustan mucho los aguacates\n",
      "Me gustan mucho las fresas\n",
      "Me gusta mucho el kiwi\n",
      "Me gusta mucho la frambuesa\n"
     ]
    }
   ],
   "source": [
    "frutas = ['mango', 'plátano', 'peras', 'manzana', 'aguacates', \"fresas\", \"kiwi\", \"frambuesa\"]\n",
    "for f in frutas:\n",
    "    plural = False\n",
    "    artículo = \"el\"\n",
    "    if f[-1] == 'a':  # la última letra\n",
    "        artículo = 'la'\n",
    "    elif f[-2:] == 'as':  # las dos últimas letras\n",
    "        artículo = 'las'\n",
    "        plural = True  # línea indentada igual que la anterior, están en el mismo bloque\n",
    "    elif f[-1] == 's':  # en python no hay \"switch\", hay que usar \"elif\" para opciones\n",
    "        artículo = 'los'\n",
    "        plural = True\n",
    "    #else:\n",
    "    #    artículo = 'el'\n",
    "    print(\"Me gusta{} mucho {} {}\".format('n' if plural else '', artículo, f))\n",
    "    # nótese la forma de utilizar el operador ternario condicional para agregar o no una 'n'"
   ]
  },
  {
   "cell_type": "markdown",
   "metadata": {
    "collapsed": true
   },
   "source": [
    "## Funciones y procedimientos\n",
    "En Python se usa `def` para definir una función (se suele llamar \"procedimiento\" a una función que no devuelve valores, ambas usan `def`)."
   ]
  },
  {
   "cell_type": "code",
   "execution_count": 15,
   "metadata": {
    "collapsed": false
   },
   "outputs": [
    {
     "name": "stdout",
     "output_type": "stream",
     "text": [
      "** El 5 evaluado en la función: 21\n",
      "El 5 evaluado en la función renombrada: 21\n",
      "** Ahora llamaremos al procedimiento...\n",
      "** No tiene sentido imprimir el resultado de un procedimiento.\n",
      "Python imprime \"None\" después de ejecutar el procedimiento.\n",
      "La suma es:10\n"
     ]
    }
   ],
   "source": [
    "def función(x):   # a la x se le llama \"parámetro\"\n",
    "    return x ** 2 - 4\n",
    "\n",
    "print(\"** El 5 evaluado en la función:\", función(5))\n",
    "renombrada = función  # ahora también podemos usar el nombre 'g'\n",
    "print(\"El 5 evaluado en la función renombrada:\", renombrada(5))\n",
    "\n",
    "def procedimiento(x, y):\n",
    "    return \"La suma es:\" + str(x + y)\n",
    "    \n",
    "print(\"** Ahora llamaremos al procedimiento...\")\n",
    "procedimiento(2, 3)\n",
    "\n",
    "print(\"** No tiene sentido imprimir el resultado de un procedimiento.\\nPython imprime \\\"None\\\" después de ejecutar el procedimiento.\")\n",
    "print(procedimiento(7, 3))"
   ]
  },
  {
   "cell_type": "markdown",
   "metadata": {},
   "source": [
    "Ejemplo: Busca una raíz de func en el intervalo [a,b]"
   ]
  },
  {
   "cell_type": "code",
   "execution_count": 19,
   "metadata": {
    "collapsed": false
   },
   "outputs": [
    {
     "name": "stdout",
     "output_type": "stream",
     "text": [
      "Obtuve la raiz 2.0 en 71 iteraciones\n",
      "Obtuve la raiz 2.0 en 71 iteraciones\n"
     ]
    }
   ],
   "source": [
    "def newton(a, b, func):\n",
    "    \"\"\"\n",
    "        newton(a, b, func): - Encuentra una raíz de la función \"func\" dentro del intervalo [a,b]\n",
    "            Nota: func(a) debe tener signo contrario que func(b)\n",
    "    \"\"\"\n",
    "    a, b = float(a), float(b)\n",
    "    iteraciones = 0\n",
    "    permitido = 1e-20  # tolerancia permitida\n",
    "    error = 1  # incializa variable \"error\" a algo mayor que permitido\n",
    "    if func(a) * func(b) > 0:  # error si los extremos evaluados tienen el mismo signo\n",
    "        return '\"error\"', 0\n",
    "    while error > permitido:\n",
    "        iteraciones += 1  # python no tiene ++  :(\n",
    "        c = (a + b) / 2\n",
    "        for x in a, b, c:\n",
    "            if func(x) == 0: return x, iteraciones\n",
    "        if func(a) * func(c) < 0:  # si f(a) y f(c) tienen signos contrarios, hay raiz\n",
    "            b = c\n",
    "        else:\n",
    "            a = c\n",
    "        error = abs(func(c))\n",
    "    return c, iteraciones\n",
    "\n",
    "def func(x):\n",
    "    return x ** 2 - 4\n",
    "\n",
    "r = newton(0, 1000000, func)\n",
    "print(\"Obtuve la raiz {} en {} iteraciones\".format(r[0], r[1]))\n",
    "print(\"Obtuve la raiz {} en {} iteraciones\".format(*r))  # esto se llama \"desempaquetamiento\""
   ]
  },
  {
   "cell_type": "markdown",
   "metadata": {},
   "source": [
    "Hay que tratar con cuidado variables definidas fuera de una función"
   ]
  },
  {
   "cell_type": "code",
   "execution_count": 21,
   "metadata": {
    "collapsed": false
   },
   "outputs": [
    {
     "name": "stdout",
     "output_type": "stream",
     "text": [
      "a= 5\n",
      "f(6)= 11\n",
      "a= 3\n",
      "f(6)= 9\n",
      "a= 3\n",
      "g(6)= 13\n",
      "a= 3\n",
      "i(6)= 21\n",
      "a= 15\n"
     ]
    }
   ],
   "source": [
    "a = 5\n",
    "\n",
    "def f(x):\n",
    "    return x + a\n",
    "\n",
    "print(\"a=\", a)\n",
    "print(\"f(6)=\", f(6))\n",
    "\n",
    "a = 3\n",
    "print(\"a=\", a)\n",
    "print(\"f(6)=\", f(6))  # uso peligroso de a, por no tener control sobre cuando se modifica, aquí f(6) da valores diferentes\n",
    "\n",
    "print(\"a=\", a)\n",
    "def g(x):\n",
    "    a = 7\n",
    "    return x + a\n",
    "\n",
    "print(\"g(6)=\", g(6))  # en general se preferirá la variable local a la función\n",
    "\n",
    "def h(x):\n",
    "    a+=5\n",
    "    return x + a\n",
    "\n",
    "#print(\"h(6)=\", h(6))  # esto no funciona: la \"a\" es global, sin embargo se trata como local al incrementarla\n",
    "\n",
    "print(\"a=\", a)\n",
    "def i(x):\n",
    "    #global a\n",
    "    a = 15\n",
    "    return x + a\n",
    "\n",
    "print(\"i(6)=\", i(6))  # al indicar que la \"a\" que se utilizará es la global\n",
    "print(\"a=\", a)  # si cambia la \"a\" externa"
   ]
  },
  {
   "cell_type": "markdown",
   "metadata": {},
   "source": [
    "Ejemplo: Localicemos el máximo y el mínimo de una lista de valores aleatorios"
   ]
  },
  {
   "cell_type": "code",
   "execution_count": 51,
   "metadata": {
    "collapsed": false
   },
   "outputs": [
    {
     "name": "stdout",
     "output_type": "stream",
     "text": [
      "El mínimo fué: 0.008397426077954462 y el máximo fué: 0.9983675514436424\n",
      "El mínimo fué: 0.008397426077954462 y el máximo fué: 0.9983675514436424\n"
     ]
    }
   ],
   "source": [
    "# Localizar los valores mínimos y máximos de una lista\n",
    "\n",
    "from random import random\n",
    "\n",
    "n = 100\n",
    "lista = []\n",
    "for i in range(n):\n",
    "    lista.append(random())\n",
    "\n",
    "valor_min = 1e30\n",
    "valor_max = -1e30\n",
    "for valor in lista:\n",
    "    if valor > valor_max:\n",
    "        valor_max = valor\n",
    "    if valor < valor_min:\n",
    "        valor_min = valor\n",
    "\n",
    "print(\"El mínimo fué:\", valor_min, \"y el máximo fué:\", valor_max)\n",
    "\n",
    "# otra forma\n",
    "\n",
    "print(\"El mínimo fué:\", min(lista), \"y el máximo fué:\", max(lista))"
   ]
  },
  {
   "cell_type": "code",
   "execution_count": 22,
   "metadata": {
    "collapsed": false
   },
   "outputs": [
    {
     "name": "stdout",
     "output_type": "stream",
     "text": [
      "Si se encontró el 42\n"
     ]
    }
   ],
   "source": [
    "# Localizar si se encuentra un 42 en una lista\n",
    "from random import randint\n",
    "\n",
    "n = 100\n",
    "lista = []\n",
    "for i in range(n):\n",
    "    lista.append(randint(1, 100))\n",
    "\n",
    "esta = False\n",
    "for valor in lista:\n",
    "    if valor == 42:\n",
    "        esta = True\n",
    "        break\n",
    "\n",
    "if esta:\n",
    "    print(\"Si se encontró el 42\")\n",
    "else:\n",
    "    print(\"No se encontró el 42\")"
   ]
  },
  {
   "cell_type": "code",
   "execution_count": 53,
   "metadata": {
    "collapsed": false
   },
   "outputs": [
    {
     "name": "stdout",
     "output_type": "stream",
     "text": [
      "No se encontró el 42\n"
     ]
    }
   ],
   "source": [
    "for i in range(n):\n",
    "    if lista[i] == 42:\n",
    "        break\n",
    "\n",
    "if lista[i] == 42: # terminó y el valor es el buscado\n",
    "    print(\"Si se encontró el 42\")\n",
    "    #print(i)  #posición\n",
    "else:  # sólo terminó\n",
    "    print(\"No se encontró el 42\")"
   ]
  },
  {
   "cell_type": "code",
   "execution_count": 54,
   "metadata": {
    "collapsed": false
   },
   "outputs": [
    {
     "name": "stdout",
     "output_type": "stream",
     "text": [
      "No se encontró el 42\n"
     ]
    }
   ],
   "source": [
    "#Otra forma\n",
    "\n",
    "if 42 in lista:\n",
    "    print(\"Si se encontró el 42\")\n",
    "else:\n",
    "    print(\"No se encontró el 42\")"
   ]
  },
  {
   "cell_type": "code",
   "execution_count": 23,
   "metadata": {
    "collapsed": false
   },
   "outputs": [
    {
     "name": "stdout",
     "output_type": "stream",
     "text": [
      "El 42 se encuentra en la posición: 18\n",
      "El 42 aparece 2 veces en la lista.\n"
     ]
    }
   ],
   "source": [
    "# otra forma de obtener la posición del 42\n",
    "if 42 in lista:   # hay qu everificar que se encuentre, si no, marca error\n",
    "    print(\"El 42 se encuentra en la posición:\", lista.index(42))\n",
    "    # cuantas veces aparece el 42 en la lista?\n",
    "    print(\"El 42 aparece\", lista.count(42), \"veces en la lista.\")"
   ]
  },
  {
   "cell_type": "markdown",
   "metadata": {},
   "source": [
    "En general se debe preferir utilizar funciones de biblioteca en vez de iteraciones con `for`, debido a que son más rápidas al ser programados en lenguajes de bajo nivel (ensamblador o a veces en C)."
   ]
  },
  {
   "cell_type": "markdown",
   "metadata": {},
   "source": [
    "### rebanadas"
   ]
  },
  {
   "cell_type": "code",
   "execution_count": 56,
   "metadata": {
    "collapsed": false
   },
   "outputs": [
    {
     "name": "stdout",
     "output_type": "stream",
     "text": [
      "primero la a\n",
      "al último la u\n",
      "antes del último o\n",
      "primeras 3 ['a', 'e', 'i']\n",
      "desde la 4a ['o', 'u']\n",
      "últimas 3 ['i', 'o', 'u']\n",
      "1 al 3 ['e', 'i', 'o']\n",
      "3 al 1 ['o', 'i', 'e']\n",
      "pares ['a', 'i', 'u']\n",
      "impares ['e', 'o']\n",
      "reemplazada la de enmedio ['a', 'e', 'I', 'o', 'u']\n",
      "reemplazadas las dos primeras ['A', 'E', 'I', 'o', 'u']\n",
      "reemplaza de la 3 al final ['A', 'E', 'I', 0, 1]\n"
     ]
    }
   ],
   "source": [
    "# esto es una lista (excepto las operaciones de asignación,\n",
    "#  estas operaciones se aplican también a tuplas y a cadenas)\n",
    "\n",
    "vocales = ['a', 'e', 'i', 'o', 'u']\n",
    "# El primer elemento de una lista\n",
    "print(\"primero la\", vocales[0])\n",
    "# El último elemento de una lista\n",
    "print(\"al último la\", vocales[-1])\n",
    "# El penúltimo\n",
    "print(\"antes del último\", vocales[-2])\n",
    "# Las primeras 3\n",
    "print(\"primeras 3\", vocales[:3])\n",
    "# De la cuarta al final\n",
    "print(\"desde la 4a\", vocales[3:])\n",
    "# Las últimas 3\n",
    "print(\"últimas 3\", vocales[-3:])\n",
    "# del índice 1 al 3\n",
    "print(\"1 al 3\", vocales[1:4])\n",
    "# ahora al revés\n",
    "print(\"3 al 1\", vocales[3:0:-1])\n",
    "# posiciones pares\n",
    "print(\"pares\", vocales[::2])\n",
    "# posiciones impares\n",
    "print(\"impares\", vocales[1::2])\n",
    "# reemplaza la de enmedio\n",
    "vocales[len(vocales)//2]='I'\n",
    "print(\"reemplazada la de enmedio\", vocales)\n",
    "vocales[:2]=['A', 'E']\n",
    "print(\"reemplazadas las dos primeras\", vocales)\n",
    "vocales[3:]=range(2)\n",
    "print(\"reemplaza de la 3 al final\", vocales)"
   ]
  },
  {
   "cell_type": "markdown",
   "metadata": {},
   "source": [
    "## Cuidados con los objetos mutables en Python\n",
    "Un objeto es mutable si se le puede cambiar uno de sus elementos constituyentes. Una lista es un ejemplo de objeto mutable. Los enteros no son mutables, tampoco las cadenas ni las tuplas."
   ]
  },
  {
   "cell_type": "code",
   "execution_count": 57,
   "metadata": {
    "collapsed": false
   },
   "outputs": [
    {
     "name": "stdout",
     "output_type": "stream",
     "text": [
      "[4, 5, 6, 4, 5, 6, 4, 5, 6, 4, 5, 6]\n",
      "a= [8, 5, 6]\n",
      "b= [4, 5, 6, 4, 5, 6, 4, 5, 6, 4, 5, 6]\n"
     ]
    }
   ],
   "source": [
    "a = [4, 5, 6]\n",
    "b = a * 4\n",
    "print(b)\n",
    "a[0] = 8 # el primer elemento de a cambió.\n",
    "print(\"a=\", a)\n",
    "print(\"b=\", b) # b no contiene mutables, aunque b si sea mutable"
   ]
  },
  {
   "cell_type": "code",
   "execution_count": 58,
   "metadata": {
    "collapsed": false
   },
   "outputs": [
    {
     "name": "stdout",
     "output_type": "stream",
     "text": [
      "[5, 5, 5, 5]\n",
      "[5, 5, 5, 5]\n"
     ]
    }
   ],
   "source": [
    "a = 5\n",
    "c = [a, a, a, a]\n",
    "print(c)\n",
    "a = 7  # a ahora está asociada al objeto 7\n",
    "print(c)  # c sigue conteniendo 4 copias del objeto 5"
   ]
  },
  {
   "cell_type": "code",
   "execution_count": 59,
   "metadata": {
    "collapsed": false
   },
   "outputs": [
    {
     "name": "stdout",
     "output_type": "stream",
     "text": [
      "a= [4, 5, 6] b= [[4, 5, 6], [4, 5, 6], [4, 5, 6], [4, 5, 6]]\n",
      "a= [3, 5, 6] b= [[3, 5, 6], [3, 5, 6], [3, 5, 6], [3, 5, 6]]\n"
     ]
    }
   ],
   "source": [
    "a = [4, 5, 6]\n",
    "b = [a] * 4\n",
    "print(\"a=\", a, \"b=\", b) # b es una lista que contiene 4 *copias* del objeto [4,5,6]\n",
    "a[0] = 3 # a está asociada al objeto [4,5,6], el cual es \"mutable\" y aquí lo modificamos\n",
    "print(\"a=\", a, \"b=\", b)"
   ]
  },
  {
   "cell_type": "code",
   "execution_count": 60,
   "metadata": {
    "collapsed": false
   },
   "outputs": [
    {
     "name": "stdout",
     "output_type": "stream",
     "text": [
      "c= [[3, 5, 6], [3, 5, 6], [3, 5, 6], [3, 5, 6]]\n",
      "a= [12, 5, 6]\n",
      "c= [[12, 5, 6], [12, 5, 6], [12, 5, 6], [12, 5, 6]]\n",
      "c= [3, [30, 5, 6], [30, 5, 6], [30, 5, 6]]\n"
     ]
    }
   ],
   "source": [
    "c = [a, a, a, a] # esto es equivalente a como se construyó b\n",
    "print(\"c=\", c)\n",
    "a[0] = 12\n",
    "print(\"a=\", a)\n",
    "print(\"c=\", c)  # contiene 4 copias del objeto a y como este cambió, c refleja esos cambios\n",
    "c[0] = 3\n",
    "c[1][0] = 30\n",
    "print(\"c=\", c) # el primer elemento de c es ahora inmutable"
   ]
  },
  {
   "cell_type": "code",
   "execution_count": 61,
   "metadata": {
    "collapsed": false
   },
   "outputs": [
    {
     "name": "stdout",
     "output_type": "stream",
     "text": [
      "[[], [], [], [], [], [], [], [], [], []]\n",
      "[[1], [1], [1], [1], [1], [1], [1], [1], [1], [1]]\n",
      "[[2], [2], [2], [2], [2], [2], [2], [2], [2], [2]]\n",
      "[[0], [0], [0], [0], [0], [0], [0], [0], [0], [0]]\n",
      "[[2], [2], [2], [2], [2], [2], [2], [2], [2], [2]]\n",
      "[[0, 0, 0, 0, 0], [0, 0, 0, 0, 0], [0, 0, 0, 0, 0]]\n",
      "[[0, 0, 0, 0, 0], [0, 0, 0, 0, 0], [0, 0, 0, 0, 0]]\n",
      "[[0, 0, 0, 2, 0], [0, 0, 0, 0, 0], [0, 0, 0, 0, 0]]\n"
     ]
    }
   ],
   "source": [
    "# inicializaciones de matrices\n",
    "a = [[]] * 10\n",
    "print(a) # lista de listas vacías (copias de la misma lista vacía)\n",
    "a[0].append(1) # agrega un elemento a la lista vacía en la primera posición\n",
    "print(a) # como es la misma lista (que era vacía y ahora tiene un 1), eso se ve en las copias\n",
    "a[0][0] = 2 # modificamos una de las listas para que ahora tenga un 2\n",
    "print(a)\n",
    "a = [[0]] * 10  # lo mismo sucede si empezamos con a = [[0]] * 10\n",
    "print(a)\n",
    "a[0][0] = 2\n",
    "print(a)\n",
    "# Lo mejor para inicializar una matriz es:\n",
    "a = []\n",
    "for i in range(3):\n",
    "    b = []\n",
    "    for j in range(5):\n",
    "        b.append(0)\n",
    "    a.append(b)\n",
    "print(a)\n",
    "# o utilizando comprensiones de listas\n",
    "a = [[0 for j in range(5)] for i in range(3)]\n",
    "print(a)\n",
    "a[0][3] = 2\n",
    "print(a)"
   ]
  },
  {
   "cell_type": "code",
   "execution_count": 134,
   "metadata": {
    "collapsed": false
   },
   "outputs": [
    {
     "data": {
      "text/plain": [
       "[1, 2, 3, 4, 5, 6, 7, 8, 9, 10]"
      ]
     },
     "execution_count": 134,
     "metadata": {},
     "output_type": "execute_result"
    }
   ],
   "source": [
    "[x+1 for x in range(10)]"
   ]
  },
  {
   "cell_type": "code",
   "execution_count": 62,
   "metadata": {
    "collapsed": false
   },
   "outputs": [
    {
     "name": "stdout",
     "output_type": "stream",
     "text": [
      "[[7], [], [], [], [], [12], [], [], [], []]\n"
     ]
    }
   ],
   "source": [
    "# Si se desea, se puede crear una lista de listas vacías independientes con estos métodos\n",
    "a = [[] for i in range(10)]\n",
    "a[0].append(7)\n",
    "a[5].append(12)\n",
    "print(a)"
   ]
  },
  {
   "cell_type": "code",
   "execution_count": 63,
   "metadata": {
    "collapsed": false
   },
   "outputs": [
    {
     "name": "stdout",
     "output_type": "stream",
     "text": [
      "11\n",
      "8\n"
     ]
    }
   ],
   "source": [
    "def añade(número, valor=5):\n",
    "    \"Ejemplo de valores por default.\"\n",
    "    return número + valor\n",
    "\n",
    "print(añade(2, 9))\n",
    "print(añade(3))"
   ]
  },
  {
   "cell_type": "code",
   "execution_count": 64,
   "metadata": {
    "collapsed": false
   },
   "outputs": [
    {
     "name": "stdout",
     "output_type": "stream",
     "text": [
      "id(lista)= 4358691336 lista= [3]\n",
      "id(lista)= 4358691336 lista= [3, 4]\n",
      "id(lista)= 4358691336 lista= [3, 4, 5]\n",
      "id(lista)= 4358691144 lista= [6]\n"
     ]
    }
   ],
   "source": [
    "# Tener cuidado al usar un objeto mutable como default\n",
    "def añade(número, lista=[]):\n",
    "    lista.append(número)\n",
    "    print(\"id(lista)=\", id(lista), \"lista=\", lista)\n",
    "\n",
    "añade(3)\n",
    "añade(4)\n",
    "añade(5)\n",
    "añade(6, [])\n",
    "# el cuidado se debe tener pues a veces se puede asumir que el valor mutable default es el que\n",
    "# continuará utilizándose. El mutable asignado a un valor default continuará siendo el mismo\n",
    "# objeto mientras no se use un nuevo valor para ese objeto."
   ]
  },
  {
   "cell_type": "code",
   "execution_count": null,
   "metadata": {
    "collapsed": true
   },
   "outputs": [],
   "source": [
    "def añade(número, lista=\"lista vacía\"):\n",
    "    if lista == \"lista vacía\":\n",
    "        lista = []\n",
    "    lista.append(número)\n",
    "    print(\"id(lista)=\", id(lista), \"lista=\", lista)\n",
    "\n",
    "añade(3)\n",
    "añade(4)\n",
    "añade(5)\n",
    "añade(6, [])"
   ]
  },
  {
   "cell_type": "markdown",
   "metadata": {
    "collapsed": true
   },
   "source": [
    "## Parámetros"
   ]
  },
  {
   "cell_type": "code",
   "execution_count": 65,
   "metadata": {
    "collapsed": true
   },
   "outputs": [],
   "source": [
    "lista_nominal = []\n",
    "def ciudadano(nombre, edad, sexo, domicilio, folio):\n",
    "    lista_nominal.append((nombre, edad, sexo, domicilio, folio))\n",
    "    print(\"Nombre={}\\nEdad={}\\nSexo={}\\nDomicilio={}\\nFolio={}\".format(nombre, edad, sexo, domicilio, folio))"
   ]
  },
  {
   "cell_type": "code",
   "execution_count": 66,
   "metadata": {
    "collapsed": false
   },
   "outputs": [
    {
     "name": "stdout",
     "output_type": "stream",
     "text": [
      "Nombre=CONTRERAS ALCALA FELIPE HUMBERTO\n",
      "Edad=42\n",
      "Sexo=H\n",
      "Domicilio=C LUISA 59 301 COL NATIVITAS ...\n",
      "Folio=123456\n"
     ]
    }
   ],
   "source": [
    "ciudadano(\"CONTRERAS ALCALA FELIPE HUMBERTO\", 42, \"H\", \"C LUISA 59 301 COL NATIVITAS ...\", 123456)"
   ]
  },
  {
   "cell_type": "code",
   "execution_count": 67,
   "metadata": {
    "collapsed": false
   },
   "outputs": [
    {
     "name": "stdout",
     "output_type": "stream",
     "text": [
      "[('CONTRERAS ALCALA FELIPE HUMBERTO', 42, 'H', 'C LUISA 59 301 COL NATIVITAS ...', 123456)]\n"
     ]
    }
   ],
   "source": [
    "print(lista_nominal)"
   ]
  },
  {
   "cell_type": "code",
   "execution_count": 68,
   "metadata": {
    "collapsed": false
   },
   "outputs": [
    {
     "name": "stdout",
     "output_type": "stream",
     "text": [
      "Nombre=SAUL\n",
      "Edad=33\n",
      "Sexo=H\n",
      "Domicilio=El viejo oeste\n",
      "Folio=999666\n"
     ]
    }
   ],
   "source": [
    "ciudadano(\"SAUL\", sexo=\"H\", edad=33, folio=999666, domicilio=\"El viejo oeste\")"
   ]
  },
  {
   "cell_type": "code",
   "execution_count": 69,
   "metadata": {
    "collapsed": false
   },
   "outputs": [
    {
     "name": "stdout",
     "output_type": "stream",
     "text": [
      "[('CONTRERAS ALCALA FELIPE HUMBERTO', 42, 'H', 'C LUISA 59 301 COL NATIVITAS ...', 123456), ('SAUL', 33, 'H', 'El viejo oeste', 999666)]\n"
     ]
    }
   ],
   "source": [
    "print(lista_nominal)"
   ]
  },
  {
   "cell_type": "code",
   "execution_count": 70,
   "metadata": {
    "collapsed": false
   },
   "outputs": [
    {
     "name": "stdout",
     "output_type": "stream",
     "text": [
      "lorito lorito \n",
      "14\n",
      "['manzana', 'kiwi', 'huaya', 'manzana', 'kiwi', 'huaya']\n"
     ]
    }
   ],
   "source": [
    "# al no declarar el tipo de parámetro, las funciones pueden tener múltiples usos\n",
    "def duplica(cadena):\n",
    "    print(cadena * 2)\n",
    "\n",
    "duplica(\"lorito \")\n",
    "duplica(7)\n",
    "duplica([\"manzana\", \"kiwi\", \"huaya\"])"
   ]
  },
  {
   "cell_type": "code",
   "execution_count": 71,
   "metadata": {
    "collapsed": false
   },
   "outputs": [
    {
     "name": "stdout",
     "output_type": "stream",
     "text": [
      "Duplicando perro...\n",
      "perro perro \n",
      "Duplicando un entero...\n",
      "ERROR!\n"
     ]
    }
   ],
   "source": [
    "def duplica_cad(cadena):\n",
    "    if isinstance(cadena, str):\n",
    "        print(cadena * 2)\n",
    "    else:\n",
    "        print(\"ERROR!\")\n",
    "\n",
    "print(\"Duplicando perro...\")\n",
    "duplica_cad(\"perro \")\n",
    "print(\"Duplicando un entero...\")\n",
    "duplica_cad(56)"
   ]
  },
  {
   "cell_type": "code",
   "execution_count": 72,
   "metadata": {
    "collapsed": false
   },
   "outputs": [
    {
     "data": {
      "text/plain": [
       "tuple"
      ]
     },
     "execution_count": 72,
     "metadata": {},
     "output_type": "execute_result"
    }
   ],
   "source": [
    "# esto es una tupla, al igual que las listas, sus elementos pueden ser lo que sea\n",
    "x=('a', ['b', 'c'], 'd')\n",
    "type(x)"
   ]
  },
  {
   "cell_type": "code",
   "execution_count": 73,
   "metadata": {
    "collapsed": false
   },
   "outputs": [
    {
     "name": "stdout",
     "output_type": "stream",
     "text": [
      "a\n"
     ]
    }
   ],
   "source": [
    "# sus elementos se muestran igual que con las listas\n",
    "print(x[0])"
   ]
  },
  {
   "cell_type": "code",
   "execution_count": 74,
   "metadata": {
    "collapsed": false
   },
   "outputs": [],
   "source": [
    "# x[0]='t'   esto produce error, no se puede asignar a elementos de tuplas"
   ]
  },
  {
   "cell_type": "code",
   "execution_count": 75,
   "metadata": {
    "collapsed": false
   },
   "outputs": [
    {
     "name": "stdout",
     "output_type": "stream",
     "text": [
      "['b', 'c']\n"
     ]
    }
   ],
   "source": [
    "# sin embargo, el elemento 1 es una lista, y esa si es mutable\n",
    "print(x[1])"
   ]
  },
  {
   "cell_type": "code",
   "execution_count": 76,
   "metadata": {
    "collapsed": false
   },
   "outputs": [],
   "source": [
    "#cambiando el valor de la lista\n",
    "x[1][0]='t'"
   ]
  },
  {
   "cell_type": "code",
   "execution_count": 77,
   "metadata": {
    "collapsed": false
   },
   "outputs": [
    {
     "data": {
      "text/plain": [
       "('a', ['t', 'c'], 'd')"
      ]
     },
     "execution_count": 77,
     "metadata": {},
     "output_type": "execute_result"
    }
   ],
   "source": [
    "x"
   ]
  },
  {
   "cell_type": "code",
   "execution_count": 78,
   "metadata": {
    "collapsed": true
   },
   "outputs": [],
   "source": [
    "# x[1]=['h', 'i']  # no podemos modificar el elemento de la tupla!"
   ]
  },
  {
   "cell_type": "code",
   "execution_count": 79,
   "metadata": {
    "collapsed": false
   },
   "outputs": [
    {
     "data": {
      "text/plain": [
       "4358824584"
      ]
     },
     "execution_count": 79,
     "metadata": {},
     "output_type": "execute_result"
    }
   ],
   "source": [
    "id(x)"
   ]
  },
  {
   "cell_type": "code",
   "execution_count": 80,
   "metadata": {
    "collapsed": false
   },
   "outputs": [
    {
     "data": {
      "text/plain": [
       "4300403184"
      ]
     },
     "execution_count": 80,
     "metadata": {},
     "output_type": "execute_result"
    }
   ],
   "source": [
    "id(x[0])"
   ]
  },
  {
   "cell_type": "code",
   "execution_count": 81,
   "metadata": {
    "collapsed": false
   },
   "outputs": [
    {
     "data": {
      "text/plain": [
       "4358691976"
      ]
     },
     "execution_count": 81,
     "metadata": {},
     "output_type": "execute_result"
    }
   ],
   "source": [
    "id(x[1])"
   ]
  },
  {
   "cell_type": "code",
   "execution_count": 82,
   "metadata": {
    "collapsed": false
   },
   "outputs": [
    {
     "data": {
      "text/plain": [
       "4300486560"
      ]
     },
     "execution_count": 82,
     "metadata": {},
     "output_type": "execute_result"
    }
   ],
   "source": [
    "id(x[2])"
   ]
  },
  {
   "cell_type": "code",
   "execution_count": 83,
   "metadata": {
    "collapsed": true
   },
   "outputs": [],
   "source": [
    "x[1][0]='h'"
   ]
  },
  {
   "cell_type": "code",
   "execution_count": 84,
   "metadata": {
    "collapsed": false
   },
   "outputs": [
    {
     "data": {
      "text/plain": [
       "('a', ['h', 'c'], 'd')"
      ]
     },
     "execution_count": 84,
     "metadata": {},
     "output_type": "execute_result"
    }
   ],
   "source": [
    "x"
   ]
  },
  {
   "cell_type": "code",
   "execution_count": 85,
   "metadata": {
    "collapsed": false
   },
   "outputs": [
    {
     "data": {
      "text/plain": [
       "4358691976"
      ]
     },
     "execution_count": 85,
     "metadata": {},
     "output_type": "execute_result"
    }
   ],
   "source": [
    "# el modificar un elemento de un mutable, no cambia su id()\n",
    "id(x[1])"
   ]
  },
  {
   "cell_type": "code",
   "execution_count": 86,
   "metadata": {
    "collapsed": false
   },
   "outputs": [
    {
     "data": {
      "text/plain": [
       "'zanahoria'"
      ]
     },
     "execution_count": 86,
     "metadata": {},
     "output_type": "execute_result"
    }
   ],
   "source": [
    "# esto es un diccionario\n",
    "d = {'letuce': 'lechuga', 'onion': 'cebolla', 'tomatoe': 'tomate',\n",
    "    'potatoe':'papa', 'carrot': 'zanahoria', 'celery': 'apio'}\n",
    "d['carrot']"
   ]
  },
  {
   "cell_type": "code",
   "execution_count": 87,
   "metadata": {
    "collapsed": false
   },
   "outputs": [
    {
     "data": {
      "text/plain": [
       "dict_keys(['tomatoe', 'letuce', 'potatoe', 'celery', 'onion', 'carrot'])"
      ]
     },
     "execution_count": 87,
     "metadata": {},
     "output_type": "execute_result"
    }
   ],
   "source": [
    "d.keys()"
   ]
  },
  {
   "cell_type": "code",
   "execution_count": 88,
   "metadata": {
    "collapsed": false
   },
   "outputs": [
    {
     "data": {
      "text/plain": [
       "dict_values(['tomate', 'lechuga', 'papa', 'apio', 'cebolla', 'zanahoria'])"
      ]
     },
     "execution_count": 88,
     "metadata": {},
     "output_type": "execute_result"
    }
   ],
   "source": [
    "d.values()"
   ]
  },
  {
   "cell_type": "code",
   "execution_count": 89,
   "metadata": {
    "collapsed": false
   },
   "outputs": [
    {
     "name": "stdout",
     "output_type": "stream",
     "text": [
      "tomate\n",
      "lechuga\n",
      "papa\n",
      "apio\n",
      "cebolla\n",
      "zanahoria\n"
     ]
    }
   ],
   "source": [
    "for en_veg in d.keys():\n",
    "    print(d[en_veg])"
   ]
  },
  {
   "cell_type": "code",
   "execution_count": 90,
   "metadata": {
    "collapsed": false
   },
   "outputs": [
    {
     "name": "stdout",
     "output_type": "stream",
     "text": [
      "carrot\n"
     ]
    }
   ],
   "source": [
    "for k, v in d.items():\n",
    "    if v == 'zanahoria':\n",
    "        print(k)"
   ]
  },
  {
   "cell_type": "code",
   "execution_count": 91,
   "metadata": {
    "collapsed": false
   },
   "outputs": [
    {
     "data": {
      "text/plain": [
       "'no existe, pero es plátano'"
      ]
     },
     "execution_count": 91,
     "metadata": {},
     "output_type": "execute_result"
    }
   ],
   "source": [
    "d.get('banana', 'no existe, pero es plátano')"
   ]
  },
  {
   "cell_type": "code",
   "execution_count": 92,
   "metadata": {
    "collapsed": false
   },
   "outputs": [],
   "source": [
    "# d['banana']   esto produce error de índice"
   ]
  },
  {
   "cell_type": "code",
   "execution_count": 93,
   "metadata": {
    "collapsed": true
   },
   "outputs": [],
   "source": [
    "d['banana']='plátano'"
   ]
  },
  {
   "cell_type": "code",
   "execution_count": 94,
   "metadata": {
    "collapsed": false
   },
   "outputs": [
    {
     "data": {
      "text/plain": [
       "{'banana': 'plátano',\n",
       " 'carrot': 'zanahoria',\n",
       " 'celery': 'apio',\n",
       " 'letuce': 'lechuga',\n",
       " 'onion': 'cebolla',\n",
       " 'potatoe': 'papa',\n",
       " 'tomatoe': 'tomate'}"
      ]
     },
     "execution_count": 94,
     "metadata": {},
     "output_type": "execute_result"
    }
   ],
   "source": [
    "d"
   ]
  },
  {
   "cell_type": "markdown",
   "metadata": {},
   "source": [
    "### Impresión con formato\n",
    "\n",
    "En ocasiones necesitamos mostrar datos con cierto formato, esto se puede hacer con format."
   ]
  },
  {
   "cell_type": "code",
   "execution_count": 96,
   "metadata": {
    "collapsed": false
   },
   "outputs": [
    {
     "name": "stdout",
     "output_type": "stream",
     "text": [
      "\n",
      "============================= Factura por compra de frutas =============================\n",
      "\n",
      "----------------------------------------------------------------------------------------\n",
      "| item | cantidad |  unidad  |   concepto    |  precio unitario   |      subtotal      |\n",
      "|------|----------|----------|---------------|--------------------|--------------------|\n",
      "|  1   |    2     |    Kg    |    manzana    | $             30.00| $             60.00|\n",
      "|  2   |    1     |  pieza   |     piña      | $             20.00| $             20.00|\n",
      "|  3   |   0.5    |    Kg    |     pera      | $             35.00| $             17.50|\n",
      "|  4   |    3     |    Kg    |     mango     | $             20.00| $             60.00|\n",
      "|  5   |    5     |    Kg    |    naranja    | $              5.00| $             25.00|\n",
      "|  6   |    3     |    Kg    |    plátano    | $             12.00| $             36.00|\n",
      "|  7   |    2     |    Kg    |    durazno    | $             25.00| $             50.00|\n",
      "|  8   |    2     |  pieza   |    sandía     | $             24.00| $             48.00|\n",
      "|  9   |    3     |    Kg    |    guayaba    | $             10.00| $             30.00|\n",
      "|  10  |    4     |    Kg    |    toronja    | $             12.00| $             48.00|\n",
      "----------------------------------------------------------------------------------------\n",
      "|                                                           Total:| $            394.50|\n",
      "----------------------------------------------------------------------------------------\n"
     ]
    }
   ],
   "source": [
    "\"\"\"Facturación de frutas. \"\"\"\n",
    "frutas = ['manzana', 'piña', 'pera', 'mango', 'naranja', 'plátano', 'durazno', 'sandía', 'guayaba', 'toronja']\n",
    "cantidades = [2, 1, .5, 3, 5, 3, 2, 2, 3, 4]\n",
    "unidades = [\"Kg\"] * 10  # lista de \"Kg\"\n",
    "unidades[1] = unidades[7] = \"pieza\"  # sólo dos se venden por pieza\n",
    "precio_unitario = [30, 20, 35, 20, 5, 12, 25, 24, 10, 12]  # en pesos\n",
    "\n",
    "formato_de_encabezado = \"|{:^6}|{:^10}|{:^10}|{:^15}|{:^20}|{:^20}|\"\n",
    "formato_de_linea = \"|{:^6}|{:^10}|{:^10}|{:^15}| ${:>18.2f}| ${:>18.2f}|\"  # ¿por qué dos formatos?\n",
    "separador = \"-\"*88  # línea horizontal\n",
    "print()\n",
    "print(\"{:=^88}\".format(\" Factura por compra de frutas \"))\n",
    "print()\n",
    "print(separador)\n",
    "print(formato_de_encabezado.format(\"item\", \"cantidad\", \"unidad\", \"concepto\", \"precio unitario\", \"subtotal\"))\n",
    "print(formato_de_encabezado.format(\"-\"*6, \"-\"*10, \"-\"*10, \"-\"*15, \"-\"*20, \"-\"*20))\n",
    "total = 0\n",
    "for indice, fruta in enumerate(frutas):\n",
    "    precio_parcial = cantidades[indice] * precio_unitario[indice]\n",
    "    print(formato_de_linea.format(indice + 1, cantidades[indice], unidades[indice], fruta, precio_unitario[indice], precio_parcial))\n",
    "    total += precio_parcial\n",
    "print(separador)\n",
    "print(\"|{:>65}| ${:>18.2f}|\".format(\"Total:\", total))\n",
    "print(separador)"
   ]
  },
  {
   "cell_type": "code",
   "execution_count": 147,
   "metadata": {
    "collapsed": false
   },
   "outputs": [
    {
     "name": "stdout",
     "output_type": "stream",
     "text": [
      "\n",
      "============================= Factura por compra de frutas =============================\n",
      "\n",
      "----------------------------------------------------------------------------------------\n",
      "| item | cantidad |  unidad  |   concepto    |  precio unitario   |      subtotal      |\n",
      "|------|----------|----------|---------------|--------------------|--------------------|\n",
      "|  2   |    1     |  pieza   |     piña      | $             20.00| $             20.00|\n",
      "|  3   |    2     |    Kg    |    manzana    | $             30.00| $             60.00|\n",
      "|  4   |   0.5    |    Kg    |     pera      | $             35.00| $             17.50|\n",
      "----------------------------------------------------------------------------------------\n",
      "|                                                           Total:| $             97.50|\n",
      "----------------------------------------------------------------------------------------\n"
     ]
    }
   ],
   "source": [
    "\"\"\"Facturación de frutas. \"\"\"\n",
    "\"\"\"\n",
    "frutas = ['manzana', 'piña', 'pera', 'mango', 'naranja', 'plátano', 'durazno', 'sandía', 'guayaba', 'toronja']\n",
    "cantidades = [2, 1, .5, 3, 5, 3, 2, 2, 3, 4]\n",
    "unidades = [\"Kg\"] * 10  # lista de \"Kg\"\n",
    "unidades[1] = unidades[7] = \"pieza\"  # sólo dos se venden por pieza\n",
    "precio_unitario = [30, 20, 35, 20, 5, 12, 25, 24, 10, 12]  # en pesos\n",
    "\"\"\"\n",
    "\n",
    "f=dict()\n",
    "f['manzana']={'cantidad':2, 'unidad':'Kg', 'precio_unitario':30}\n",
    "f['piña']={'cantidad':1, 'unidad':'pieza', 'precio_unitario':20}\n",
    "f['pera']={'cantidad':.5, 'unidad':'Kg', 'precio_unitario':35}\n",
    "\n",
    "\n",
    "formato_de_encabezado = \"|{:^6}|{:^10}|{:^10}|{:^15}|{:^20}|{:^20}|\"\n",
    "formato_de_linea = \"|{:^6}|{:^10}|{:^10}|{:^15}| ${:>18.2f}| ${:>18.2f}|\"  # ¿por qué dos formatos?\n",
    "separador = \"-\"*88  # línea horizontal\n",
    "print()\n",
    "print(\"{:=^88}\".format(\" Factura por compra de frutas \"))\n",
    "print()\n",
    "print(separador)\n",
    "print(formato_de_encabezado.format(\"item\", \"cantidad\", \"unidad\", \"concepto\", \"precio unitario\", \"subtotal\"))\n",
    "print(formato_de_encabezado.format(\"-\"*6, \"-\"*10, \"-\"*10, \"-\"*15, \"-\"*20, \"-\"*20))\n",
    "total = 0\n",
    "indice = 1\n",
    "orden = ['piña', 'manzana', 'pera']\n",
    "for fruta in orden:\n",
    "    valor = f[fruta]\n",
    "    precio_parcial = valor['cantidad'] * valor['precio_unitario']\n",
    "    print(formato_de_linea.format(indice + 1, valor['cantidad'], valor['unidad'], fruta, \n",
    "                                  valor['precio_unitario'], precio_parcial))\n",
    "    total += precio_parcial\n",
    "    indice += 1\n",
    "print(separador)\n",
    "print(\"|{:>65}| ${:>18.2f}|\".format(\"Total:\", total))\n",
    "print(separador)"
   ]
  },
  {
   "cell_type": "code",
   "execution_count": 137,
   "metadata": {
    "collapsed": false
   },
   "outputs": [],
   "source": [
    "diccionario=dict()\n",
    "diccionario['blanco']=0\n",
    "diccionario['negro']=1"
   ]
  },
  {
   "cell_type": "code",
   "execution_count": 143,
   "metadata": {
    "collapsed": false
   },
   "outputs": [
    {
     "data": {
      "text/plain": [
       "2"
      ]
     },
     "execution_count": 143,
     "metadata": {},
     "output_type": "execute_result"
    }
   ],
   "source": [
    "diccionario.get('blao', 2)"
   ]
  },
  {
   "cell_type": "code",
   "execution_count": null,
   "metadata": {
    "collapsed": true
   },
   "outputs": [],
   "source": []
  }
 ],
 "metadata": {
  "kernelspec": {
   "display_name": "Python 3",
   "language": "python",
   "name": "python3"
  },
  "language_info": {
   "codemirror_mode": {
    "name": "ipython",
    "version": 3
   },
   "file_extension": ".py",
   "mimetype": "text/x-python",
   "name": "python",
   "nbconvert_exporter": "python",
   "pygments_lexer": "ipython3",
   "version": "3.4.2"
  }
 },
 "nbformat": 4,
 "nbformat_minor": 0
}
